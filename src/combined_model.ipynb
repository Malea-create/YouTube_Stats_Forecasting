{
 "cells": [
  {
   "attachments": {},
   "cell_type": "markdown",
   "metadata": {},
   "source": [
    "# Imports"
   ]
  },
  {
   "cell_type": "code",
   "execution_count": 1,
   "metadata": {},
   "outputs": [
    {
     "name": "stdout",
     "output_type": "stream",
     "text": [
      "Intel MKL WARNING: Support of Intel(R) Streaming SIMD Extensions 4.2 (Intel(R) SSE4.2) enabled only processors has been deprecated. Intel oneAPI Math Kernel Library 2025.0 will require Intel(R) Advanced Vector Extensions (Intel(R) AVX) instructions.\n",
      "Intel MKL WARNING: Support of Intel(R) Streaming SIMD Extensions 4.2 (Intel(R) SSE4.2) enabled only processors has been deprecated. Intel oneAPI Math Kernel Library 2025.0 will require Intel(R) Advanced Vector Extensions (Intel(R) AVX) instructions.\n"
     ]
    },
    {
     "name": "stderr",
     "output_type": "stream",
     "text": [
      "2023-06-25 11:31:57.605365: I tensorflow/core/platform/cpu_feature_guard.cc:193] This TensorFlow binary is optimized with oneAPI Deep Neural Network Library (oneDNN) to use the following CPU instructions in performance-critical operations:  SSE4.1 SSE4.2\n",
      "To enable them in other operations, rebuild TensorFlow with the appropriate compiler flags.\n",
      "[nltk_data] Downloading package stopwords to\n",
      "[nltk_data]     /Users/leamayer/nltk_data...\n",
      "[nltk_data]   Package stopwords is already up-to-date!\n"
     ]
    }
   ],
   "source": [
    "import pandas as pd\n",
    "import numpy as np\n",
    "\n",
    "# Preprocessing\n",
    "from tensorflow.keras.preprocessing.text import Tokenizer\n",
    "from tensorflow.keras.preprocessing.sequence import pad_sequences\n",
    "from sklearn.model_selection import train_test_split\n",
    "from sklearn.preprocessing import MinMaxScaler\n",
    "import nltk\n",
    "\n",
    "# Preprocess features\n",
    "from sklearn.feature_extraction.text import TfidfVectorizer\n",
    "from nltk.corpus import stopwords\n",
    "from nltk.stem import SnowballStemmer\n",
    "nltk.download('stopwords')\n",
    "\n",
    "# Preprocess targets\n",
    "from sklearn.preprocessing import MinMaxScaler\n",
    "\n",
    "#LSTM for regression\n",
    "from keras.models import Sequential\n",
    "from keras.layers import Dense\n",
    "from keras.layers import LSTM\n",
    "from sklearn.preprocessing import MinMaxScaler\n",
    "from sklearn.metrics import mean_squared_error\n",
    "\n",
    "# Evaluation\n",
    "\n",
    "# Visulization\n",
    "from tensorflow.keras.utils import plot_model\n",
    "import matplotlib.pyplot as plt"
   ]
  },
  {
   "attachments": {},
   "cell_type": "markdown",
   "metadata": {},
   "source": [
    "## Data Loading"
   ]
  },
  {
   "cell_type": "code",
   "execution_count": 2,
   "metadata": {},
   "outputs": [
    {
     "data": {
      "text/html": [
       "<div>\n",
       "<style scoped>\n",
       "    .dataframe tbody tr th:only-of-type {\n",
       "        vertical-align: middle;\n",
       "    }\n",
       "\n",
       "    .dataframe tbody tr th {\n",
       "        vertical-align: top;\n",
       "    }\n",
       "\n",
       "    .dataframe thead th {\n",
       "        text-align: right;\n",
       "    }\n",
       "</style>\n",
       "<table border=\"1\" class=\"dataframe\">\n",
       "  <thead>\n",
       "    <tr style=\"text-align: right;\">\n",
       "      <th></th>\n",
       "      <th>channel_title</th>\n",
       "      <th>tags</th>\n",
       "      <th>description</th>\n",
       "      <th>video_id</th>\n",
       "      <th>views</th>\n",
       "    </tr>\n",
       "  </thead>\n",
       "  <tbody>\n",
       "    <tr>\n",
       "      <th>0</th>\n",
       "      <td>EminemVEVO</td>\n",
       "      <td>Eminem|\"Walk\"|\"On\"|\"Water\"|\"Aftermath/Shady/In...</td>\n",
       "      <td>Eminem's new track Walk on Water ft. Beyoncé i...</td>\n",
       "      <td>n1WpP7iowLc</td>\n",
       "      <td>17158579</td>\n",
       "    </tr>\n",
       "    <tr>\n",
       "      <th>1</th>\n",
       "      <td>iDubbbzTV</td>\n",
       "      <td>plush|\"bad unboxing\"|\"unboxing\"|\"fan mail\"|\"id...</td>\n",
       "      <td>STill got a lot of packages. Probably will las...</td>\n",
       "      <td>0dBIkQ4Mz1M</td>\n",
       "      <td>1014651</td>\n",
       "    </tr>\n",
       "    <tr>\n",
       "      <th>3</th>\n",
       "      <td>nigahiga</td>\n",
       "      <td>ryan|\"higa\"|\"higatv\"|\"nigahiga\"|\"i dare you\"|\"...</td>\n",
       "      <td>I know it's been a while since we did this sho...</td>\n",
       "      <td>d380meD0W0M</td>\n",
       "      <td>2095828</td>\n",
       "    </tr>\n",
       "    <tr>\n",
       "      <th>4</th>\n",
       "      <td>Ed Sheeran</td>\n",
       "      <td>edsheeran|\"ed sheeran\"|\"acoustic\"|\"live\"|\"cove...</td>\n",
       "      <td>🎧: https://ad.gt/yt-perfect\\n💰: https://atlant...</td>\n",
       "      <td>2Vv-BfVoq4g</td>\n",
       "      <td>33523622</td>\n",
       "    </tr>\n",
       "    <tr>\n",
       "      <th>5</th>\n",
       "      <td>DramaAlert</td>\n",
       "      <td>#DramaAlert|\"Drama\"|\"Alert\"|\"DramaAlert\"|\"keem...</td>\n",
       "      <td>► Follow for News! - https://twitter.com/KEEMS...</td>\n",
       "      <td>0yIWz1XEeyc</td>\n",
       "      <td>1309699</td>\n",
       "    </tr>\n",
       "    <tr>\n",
       "      <th>...</th>\n",
       "      <td>...</td>\n",
       "      <td>...</td>\n",
       "      <td>...</td>\n",
       "      <td>...</td>\n",
       "      <td>...</td>\n",
       "    </tr>\n",
       "    <tr>\n",
       "      <th>41207</th>\n",
       "      <td>Россия 24</td>\n",
       "      <td>поединок|\"михеев\"|\"полный контакт\"|\"вечер с вл...</td>\n",
       "      <td>Вечер с Владимиром Соловьевым от 13.06.2018\\rП...</td>\n",
       "      <td>7E1np354AEc</td>\n",
       "      <td>201847</td>\n",
       "    </tr>\n",
       "    <tr>\n",
       "      <th>41208</th>\n",
       "      <td>Annoying Orange</td>\n",
       "      <td>annoying orange|\"funny\"|\"fruit\"|\"talking\"|\"ani...</td>\n",
       "      <td>🚨 NEW MERCH! http://amzn.to/annoyingorange 🚨➤ ...</td>\n",
       "      <td>sGolxsMSGfQ</td>\n",
       "      <td>80685</td>\n",
       "    </tr>\n",
       "    <tr>\n",
       "      <th>41210</th>\n",
       "      <td>Kingdom Hearts</td>\n",
       "      <td>Kingdom Hearts|\"KH3\"|\"Kingdom Hearts 3\"|\"Froze...</td>\n",
       "      <td>Find out more about Kingdom Hearts 3: https://...</td>\n",
       "      <td>GWlKEM3m2EE</td>\n",
       "      <td>773347</td>\n",
       "    </tr>\n",
       "    <tr>\n",
       "      <th>41211</th>\n",
       "      <td>The Young Turks</td>\n",
       "      <td>180612__TB02SorryExcuse|\"News\"|\"Politics\"|\"The...</td>\n",
       "      <td>Peter Navarro isn’t talking so tough now. Ana ...</td>\n",
       "      <td>lbMKLzQ4cNQ</td>\n",
       "      <td>115225</td>\n",
       "    </tr>\n",
       "    <tr>\n",
       "      <th>41212</th>\n",
       "      <td>我愛小明星大跟班</td>\n",
       "      <td>吳宗憲|\"吳姍儒\"|\"小明星大跟班\"|\"Sandy\"|\"Jacky wu\"|\"憲哥\"|\"中天...</td>\n",
       "      <td>藝人：李妍瑾、玉兔、班傑、LaLa、小優、少少專家：陳筱屏(律師)、Wendy(心理師)、羅...</td>\n",
       "      <td>POTgw38-m58</td>\n",
       "      <td>107392</td>\n",
       "    </tr>\n",
       "  </tbody>\n",
       "</table>\n",
       "<p>32016 rows × 5 columns</p>\n",
       "</div>"
      ],
      "text/plain": [
       "         channel_title                                               tags   \n",
       "0           EminemVEVO  Eminem|\"Walk\"|\"On\"|\"Water\"|\"Aftermath/Shady/In...  \\\n",
       "1            iDubbbzTV  plush|\"bad unboxing\"|\"unboxing\"|\"fan mail\"|\"id...   \n",
       "3             nigahiga  ryan|\"higa\"|\"higatv\"|\"nigahiga\"|\"i dare you\"|\"...   \n",
       "4           Ed Sheeran  edsheeran|\"ed sheeran\"|\"acoustic\"|\"live\"|\"cove...   \n",
       "5           DramaAlert  #DramaAlert|\"Drama\"|\"Alert\"|\"DramaAlert\"|\"keem...   \n",
       "...                ...                                                ...   \n",
       "41207        Россия 24  поединок|\"михеев\"|\"полный контакт\"|\"вечер с вл...   \n",
       "41208  Annoying Orange  annoying orange|\"funny\"|\"fruit\"|\"talking\"|\"ani...   \n",
       "41210   Kingdom Hearts  Kingdom Hearts|\"KH3\"|\"Kingdom Hearts 3\"|\"Froze...   \n",
       "41211  The Young Turks  180612__TB02SorryExcuse|\"News\"|\"Politics\"|\"The...   \n",
       "41212         我愛小明星大跟班  吳宗憲|\"吳姍儒\"|\"小明星大跟班\"|\"Sandy\"|\"Jacky wu\"|\"憲哥\"|\"中天...   \n",
       "\n",
       "                                             description     video_id   \n",
       "0      Eminem's new track Walk on Water ft. Beyoncé i...  n1WpP7iowLc  \\\n",
       "1      STill got a lot of packages. Probably will las...  0dBIkQ4Mz1M   \n",
       "3      I know it's been a while since we did this sho...  d380meD0W0M   \n",
       "4      🎧: https://ad.gt/yt-perfect\\n💰: https://atlant...  2Vv-BfVoq4g   \n",
       "5      ► Follow for News! - https://twitter.com/KEEMS...  0yIWz1XEeyc   \n",
       "...                                                  ...          ...   \n",
       "41207  Вечер с Владимиром Соловьевым от 13.06.2018\\rП...  7E1np354AEc   \n",
       "41208  🚨 NEW MERCH! http://amzn.to/annoyingorange 🚨➤ ...  sGolxsMSGfQ   \n",
       "41210  Find out more about Kingdom Hearts 3: https://...  GWlKEM3m2EE   \n",
       "41211  Peter Navarro isn’t talking so tough now. Ana ...  lbMKLzQ4cNQ   \n",
       "41212  藝人：李妍瑾、玉兔、班傑、LaLa、小優、少少專家：陳筱屏(律師)、Wendy(心理師)、羅...  POTgw38-m58   \n",
       "\n",
       "          views  \n",
       "0      17158579  \n",
       "1       1014651  \n",
       "3       2095828  \n",
       "4      33523622  \n",
       "5       1309699  \n",
       "...         ...  \n",
       "41207    201847  \n",
       "41208     80685  \n",
       "41210    773347  \n",
       "41211    115225  \n",
       "41212    107392  \n",
       "\n",
       "[32016 rows x 5 columns]"
      ]
     },
     "execution_count": 2,
     "metadata": {},
     "output_type": "execute_result"
    }
   ],
   "source": [
    "# Image Data\n",
    "df = pd.read_csv(\"../Data/dataset_w_jpg.csv\")\n",
    "df = df.dropna()\n",
    "\n",
    "df = df [[\"channel_title\",\"tags\",\"description\",\"video_id\",\"views\"]]\n",
    "\n",
    "df[\"views\"] = df[\"views\"].astype(int)\n",
    "\n",
    "df"
   ]
  },
  {
   "cell_type": "code",
   "execution_count": 4,
   "metadata": {},
   "outputs": [],
   "source": [
    "# Loas features and targets\n",
    "\n",
    "feature_df = df [[\"channel_title\",\"tags\",\"description\"]]  # Text data as numpy list\n",
    "targets = df[\"views\"].to_numpy()  # Target data as numpy list\n",
    "\n",
    "def append_ext(fn):\n",
    "    return fn+\".jpg\"\n",
    "\n",
    "image_df = df[\"video_id\"].apply(append_ext)"
   ]
  },
  {
   "attachments": {},
   "cell_type": "markdown",
   "metadata": {},
   "source": [
    "## Preprocessing"
   ]
  },
  {
   "attachments": {},
   "cell_type": "markdown",
   "metadata": {},
   "source": [
    "### Normalize Targets"
   ]
  },
  {
   "cell_type": "code",
   "execution_count": 4,
   "metadata": {},
   "outputs": [
    {
     "name": "stdout",
     "output_type": "stream",
     "text": [
      ">>> Range from original targets (1000;137843120) has been normalized (0.0;1.0)\n"
     ]
    }
   ],
   "source": [
    "# Normalizing the target values with the min-max normalization\n",
    "\n",
    "scaler = MinMaxScaler()\n",
    "normalized_targets = scaler.fit_transform(targets.reshape(-1, 1)).flatten()\n",
    "\n",
    "print(f\">>> Range from original targets ({targets.min()};{targets.max()}) has been normalized ({normalized_targets.min()};{normalized_targets.max()})\")"
   ]
  },
  {
   "attachments": {},
   "cell_type": "markdown",
   "metadata": {},
   "source": [
    "## Preprocess Image Data"
   ]
  },
  {
   "attachments": {},
   "cell_type": "markdown",
   "metadata": {},
   "source": [
    "### Apply Stemmer and Remove Stopwords from Text Features"
   ]
  },
  {
   "cell_type": "code",
   "execution_count": 5,
   "metadata": {},
   "outputs": [],
   "source": [
    "# Add content speficic stopwords by select the top N words with the highest TF-IDF scores as potential stopwords\n",
    "\n",
    "def get_content_stopwords(texts):\n",
    "    \n",
    "    vectorizer = TfidfVectorizer() # TfidfVectorizer object from sklearn\n",
    "\n",
    "    tfidf_matrix = vectorizer.fit_transform(texts) \n",
    "\n",
    "    feature_names = vectorizer.get_feature_names_out()\n",
    "\n",
    "    avg_tfidf_scores = tfidf_matrix.mean(axis=0).tolist()[0] # Get average TF-IDF score for each word\n",
    "\n",
    "    word_scores = list(zip(feature_names, avg_tfidf_scores))\n",
    "\n",
    "    word_scores.sort(key=lambda x: x[1], reverse=True) # Sort the word_scores in descending order\n",
    "\n",
    "    N = 250 # Number of stopwords to select\n",
    "    stopwords_content = [word for word, score in word_scores[:N]] # Potential stopwords\n",
    "\n",
    "    print(f\">>> {len(stopwords_content)} content specific stopwords are idintified\")\n",
    "\n",
    "    return stopwords_content"
   ]
  },
  {
   "cell_type": "code",
   "execution_count": 6,
   "metadata": {},
   "outputs": [],
   "source": [
    "# Define stemmer and stopwords\n",
    "\n",
    "def get_stopwords(texts):\n",
    "\n",
    "    # Stopwords\n",
    "    stop_words_nlkt = set(stopwords.words('english'))\n",
    "\n",
    "    # add contect speficic stopwords \n",
    "    original_stopword_len = len(stop_words_nlkt)\n",
    "\n",
    "    stop_words = stop_words_nlkt.copy()\n",
    "\n",
    "    stop_words |= set(get_content_stopwords(texts)) # Add the additional wikipedia specific stopwords\n",
    "\n",
    "    merged_stopword_len = len(stop_words)\n",
    "\n",
    "    print(f\">>> {merged_stopword_len-original_stopword_len} additional stopwords have been added to the nlkt stopwords list\")\n",
    "\n",
    "    return stop_words"
   ]
  },
  {
   "cell_type": "code",
   "execution_count": 7,
   "metadata": {},
   "outputs": [
    {
     "name": "stdout",
     "output_type": "stream",
     "text": [
      "\n",
      "--- Preprocessing channel_title feature ---\n",
      "\n",
      ">>> Numbers and words with only one character are removed\n",
      ">>> 250 content specific stopwords are idintified\n",
      ">>> 243 additional stopwords have been added to the nlkt stopwords list\n"
     ]
    },
    {
     "name": "stdout",
     "output_type": "stream",
     "text": [
      ">>> The Stemmer and the Stopword Removal are applied f.e.:\n",
      "\n",
      "VanossGaming\n",
      "vanossgam\n",
      "\n",
      "--- Preprocessing tags feature ---\n",
      "\n",
      ">>> Numbers and words with only one character are removed\n",
      ">>> 250 content specific stopwords are idintified\n",
      ">>> 224 additional stopwords have been added to the nlkt stopwords list\n",
      ">>> The Stemmer and the Stopword Removal are applied f.e.:\n",
      "\n",
      "Funny Moments|\"Montage video games\"|\"gaming\"|\"Vanoss\"|\"VanossGaming\"|\"Gameplay\"|\"Secret\"|\"Puncake\"|\"Parody\"|\"Comedy\"|\"Remix\"|\"Epic\"|\"Trolling\"|\"Xbox One\"|\"MultiplayerPS4\"|\"Funtage\"|\"superhero school\"|\"vanoss superhero school\"|\"superhero\"|\"scool\"|\"school\"|\"super hero\"|\"vanoss gaming school\"|\"doc\"|\"documentary\"\n",
      "moments|\"montag games\"|\"gaming\"|\"vanoss\"|\"vanossgaming\"|\"gameplay\"|\"secret\"|\"puncake\"|\"parody\"|\"comedy\"|\"remix\"|\"epic\"|\"trolling\"|\"xbox one\"|\"multiplayerps4\"|\"funtage\"|\"superhero school\"|\"vanoss superhero school\"|\"superhero\"|\"scool\"|\"school\"|\"sup hero\"|\"vanoss school\"|\"doc\"|\"documentary\"\n",
      "\n",
      "--- Preprocessing description feature ---\n",
      "\n",
      ">>> Numbers and words with only one character are removed\n",
      ">>> 250 content specific stopwords are idintified\n",
      ">>> 176 additional stopwords have been added to the nlkt stopwords list\n",
      ">>> The Stemmer and the Stopword Removal are applied f.e.:\n",
      "\n",
      "Vanoss Merch Shop: https://vanoss.3blackdot.com/\\n\\n\\n\\nCreated by: Evan Fong https://twitter.com/evanfong\\nDirected by: Jack Wagner https://www.instagram.com/versace_tamagotchi\\nWritten by: Jack Wagner, Eric Pumphrey, Evan Fong, Kent Osborne & Andy Haynes\\n\\nPRODUCERS\\nExecutive Producer: Evan Fong\\nExecutive Producer: Gareth Upton\\n\\n3BlackDot\\nExecutive Producer: Angelo Pullen\\nExecutive Producer: Shelby Alan Brown\\nhttps://3blackdot.com/\\n\\nAnthem Films\\nExecutive Producer: DJay Brawner\\nExecutive Producer: Blake Greenbaum\\nGeneral Manager: Nicole Swedlow\\nHead of Production: Amy Silliman \\nCreative Producer: Gabriel Younes\\nhttp://www.anthemfilms.com/\\n\\nCAST\\nDean - Stu James https://twitter.com/stujameslive\\nAustin - Austin Zajur https://www.instagram.com/austinzajur/\\nTanner - Nick Colletti https://twitter.com/nick_colletti\\nKurt - Evan Breen https://twitter.com/evan_breen\\nGina - Isabel Sobrepera https://www.instagram.com/isobrep\\nFellow student - Matthew Haddad\\nRobber - William Bouton\\nPolice Officer - Kevin Whittington\\nGuy 1 - Justin McClain \\nReceptionist - Abby Victor\\nVanoss - Evan Fong / Chris Ryan\\n\\nPRODUCTION\\nProducer: Christopher Pluchar\\nProduction Manager: Michael Burke\\n1st AD: Sam Shapson\\n2nd AD: David Moore\\nPA: Alexandria Kelly\\nPA: David Sperling\\nPA: Lars Nordgaard\\nPA: Cory Riley\\nIntern/PA: Anna Niebert\\n\\nCamera\\nDir of Photography: Wojciech Kielar\\n1st AC: Chuck Schwarzbeck\\n2nd AC/DIT: Tamara Santos\\n2nd Camera Op: Andrew Harris \\n\\nG&E\\nGaffer: Kyle Fallon\\nBB Electric: Mike Sullivan\\nSwing: Jesse Lee\\nKey Grip: Zach Kienitz\\nBB Grip: Sebastian Nuta\\n\\nArt\\nProduction Designer: Justin McClain\\nArt Director: Jacob Salano\\nSet Decorator: Chris Barundia\\nSet Dresser: Joseph Altamuro\\nSet Dresser: Seth Mankoski\\nShopper/Set Dresser: Caiti Shannon\\nArt Driver: Matt Baltzer\\nGraphic Designer: Joshua Barish\\n\\nHair & Make-Up\\nHair & Makeup: Linda Marfisi\\nHair & Makeup Asst: Lian Uritsky\\n\\nWardrobe\\nCostume Designer: Patrick Glendening\\nCostume Assistant: Kim House\\n\\nSound\\nSound: Jake Unterreiner\\n\\nPOST \\nEditor: Alex Jones\\nColor: Ryan McNeal\\nPost Audio: Aaron Bartscht \\nVFX: Tanner Merrill\\nOutro Titles: Grabster\\n\\nCasting Director\\nMichael “Stonewall” Beaudry\\n\\n\\nVanoss Twitter - http://twitter.com/#!/VanossGaming\\nVanoss Facebook - http://www.facebook.com/VanossGaming\\nVanoss Instagram - http://instagram.com/vanossinstagram\\n\\nPlease Ignore or flag spam, negative, or hateful comments.  We're here to have a good time.  Thanks everyone, and enjoy :]\n",
      "vanoss shop: https://vanoss.3blackdot.com/\\n\\n\\n\\ncr by: evan fong https://twitter.com/evanfong\\ndirect by: jack wagner https://www.instagram.com/versace_tamagotchi\\nwritten by: jack wagner, eric pumphrey, evan fong, kent osborn & andi haynes\\n\\nproducers\\nexecut producer: evan fong\\nexecut producer: gareth upton\\n\\n3blackdot\\nexecut producer: angelo pullen\\nexecut producer: shelbi alan brown\\nhttps://3blackdot.com/\\n\\nanthem films\\nexecut producer: djay brawner\\nexecut producer: blake greenbaum\\ngener manager: nicol swedlow\\nhead production: ami silliman \\ncreativ producer: gabriel younes\\nhttp://www.anthemfilms.com/\\n\\ncast\\ndean - stu jame https://twitter.com/stujameslive\\naustin - austin zajur https://www.instagram.com/austinzajur/\\ntann - nick colletti https://twitter.com/nick_colletti\\nkurt - evan breen https://twitter.com/evan_breen\\ngina - isabel sobrepera https://www.instagram.com/isobrep\\nfellow student - matthew haddad\\nrobb - william bouton\\npolic offic - kevin whittington\\nguy 1 - justin mcclain \\nreceptionist - abbi victor\\nvanoss - evan fong / chris ryan\\n\\nproduction\\nproducer: christoph pluchar\\nproduct manager: michael burke\\n1st ad: sam shapson\\n2nd ad: david moore\\npa: alexandria kelly\\npa: david sperling\\npa: lar nordgaard\\npa: cori riley\\nintern/pa: anna niebert\\n\\ncamera\\ndir photography: wojciech kielar\\n1st ac: chuck schwarzbeck\\n2nd ac/dit: tamara santos\\n2nd camera op: andrew harri \\n\\ng&e\\ngaffer: kyle fallon\\nbb electric: mike sullivan\\nswing: jess lee\\nkey grip: zach kienitz\\nbb grip: sebastian nuta\\n\\nart\\nproduct designer: justin mcclain\\nart director: jacob salano\\nset decorator: chris barundia\\nset dresser: joseph altamuro\\nset dresser: seth mankoski\\nshopper/set dresser: caiti shannon\\nart driver: matt baltzer\\ngraph designer: joshua barish\\n\\nhair & make-up\\nhair & makeup: linda marfisi\\nhair & makeup asst: lian uritsky\\n\\nwardrobe\\ncostum designer: patrick glendening\\ncostum assistant: kim house\\n\\nsound\\nsound: jake unterreiner\\n\\npost \\neditor: alex jones\\ncolor: ryan mcneal\\npost audio: aaron bartscht \\nvfx: tanner merrill\\noutro titles: grabster\\n\\ncast director\\nmichael “stonewall” beaudry\\n\\n\\nvanoss - http://twitter.com/#!/vanossgaming\\nvanoss - http://www.facebook.com/vanossgaming\\nvanoss - http://instagram.com/vanossinstagram\\n\\npleas ignor flag spam, negative, hate comments. we'r time. everyone, enjoy :]\n"
     ]
    }
   ],
   "source": [
    "# Get Stemmer\n",
    "stemmer = SnowballStemmer('english')\n",
    "feature_df_preprocessed = pd.DataFrame()\n",
    "\n",
    "\n",
    "for feature in feature_df:\n",
    "\n",
    "    print(f\"\\n--- Preprocessing {feature} feature ---\\n\")\n",
    "\n",
    "    texts = df[feature].to_numpy()\n",
    "\n",
    "    # Remove numbers and singel characters\n",
    "\n",
    "    texts_preprocessed = [' '.join([word for word in text.split() if not word.isnumeric()]) for text in texts] # Remove numbers\n",
    "    texts_preprocessed = [' '.join([word for word in text.split() if not len(word) > 1]) for text in texts] # Remove words with one character\n",
    "\n",
    "    print(\">>> Numbers and words with only one character are removed\")\n",
    "\n",
    "    # Get Stopwords\n",
    "    stop_words = get_stopwords(texts)\n",
    "\n",
    "    # Remove stop words from the text data and apply stemmer\n",
    "\n",
    "    texts_preprocessed = [' '.join([stemmer.stem(word) for word in text.split() if word.lower() not in stop_words]) for text in texts]\n",
    "\n",
    "    feature_df_preprocessed[feature] = texts_preprocessed\n",
    "\n",
    "    print(\">>> The Stemmer and the Stopword Removal are applied f.e.:\\n\")\n",
    "\n",
    "    print (texts[5]) # show example\n",
    "    print (texts_preprocessed[5])"
   ]
  },
  {
   "attachments": {},
   "cell_type": "markdown",
   "metadata": {},
   "source": [
    "### Tokenize and Split the Text Data"
   ]
  },
  {
   "cell_type": "code",
   "execution_count": 12,
   "metadata": {},
   "outputs": [],
   "source": [
    "# Tokenize the text data\n",
    "def tokenize (texts):\n",
    "    \n",
    "    tokenizer = Tokenizer()\n",
    "    tokenizer.fit_on_texts(texts)\n",
    "    sequences = tokenizer.texts_to_sequences(texts)\n",
    "\n",
    "    # Vocabulary size\n",
    "    vocab_size = len(tokenizer.word_index) + 1\n",
    "\n",
    "    # Pad sequences to a fixed length\n",
    "    max_sequence_length = 100\n",
    "    padded_sequences = pad_sequences(sequences, maxlen=max_sequence_length)\n",
    "\n",
    "    return padded_sequences, vocab_size, max_sequence_length"
   ]
  },
  {
   "cell_type": "code",
   "execution_count": 13,
   "metadata": {},
   "outputs": [],
   "source": [
    "# Split the data into training and validation sets\n",
    "def train_val_test_split(padded_sequences):\n",
    "    \n",
    "    train_texts, val_texts = train_test_split( padded_sequences, test_size=0.2, random_state=42) # train-validation split with validation size of 20%\n",
    "    train_texts, test_texts = train_test_split( train_texts, test_size=0.125, random_state=42) # train-test split with test size of 10%\n",
    "\n",
    "    print(f\">>> Text shape train: {train_texts.shape} val: {val_texts.shape} test: {test_texts.shape}\")\n",
    "\n",
    "    return train_texts, val_texts, test_texts"
   ]
  },
  {
   "cell_type": "code",
   "execution_count": 14,
   "metadata": {},
   "outputs": [
    {
     "name": "stdout",
     "output_type": "stream",
     "text": [
      "\n",
      "--- Splitting Target Data ---\n",
      "\n",
      ">>> Target shape train: (22410,) val: (6404,) test: (3202,)\n",
      "\n",
      "--- Tokenizing and Splitting channel_title feature ---\n",
      "\n",
      ">>> Text shape train: (22410, 100) val: (6404, 100) test: (3202, 100)\n",
      ">>> The Feature Splits are saved under the following names:\n",
      "train_texts_channel_title\n",
      "val_texts_channel_title\n",
      "test_texts_channel_title\n",
      "\n",
      "--- Tokenizing and Splitting tags feature ---\n",
      "\n",
      ">>> Text shape train: (22410, 100) val: (6404, 100) test: (3202, 100)\n",
      ">>> The Feature Splits are saved under the following names:\n",
      "train_texts_tags\n",
      "val_texts_tags\n",
      "test_texts_tags\n",
      "\n",
      "--- Tokenizing and Splitting description feature ---\n",
      "\n",
      ">>> Text shape train: (22410, 100) val: (6404, 100) test: (3202, 100)\n",
      ">>> The Feature Splits are saved under the following names:\n",
      "train_texts_description\n",
      "val_texts_description\n",
      "test_texts_description\n"
     ]
    }
   ],
   "source": [
    "\n",
    "# Split target data\n",
    "\n",
    "print(f\"\\n--- Splitting Target Data ---\\n\")\n",
    "\n",
    "train_targets, val_targets = train_test_split( normalized_targets, test_size=0.2, random_state=42) # train-validation split with validation size of 20%\n",
    "train_targets, test_targets = train_test_split( train_targets, test_size=0.125, random_state=42) # train-test split with test size of 10%\n",
    "print(f\">>> Target shape train: {train_targets.shape} val: {val_targets.shape} test: {test_targets.shape}\")\n",
    "\n",
    "\n",
    "# Split feature data featurewise\n",
    "\n",
    "split_names = [\"train_texts\", \"val_texts\", \"test_texts\"]\n",
    "vocab_list = []\n",
    "\n",
    "for feature in feature_df_preprocessed:\n",
    "    \n",
    "    print(f\"\\n--- Tokenizing and Splitting {feature} feature ---\\n\")\n",
    "\n",
    "    texts = df[feature].to_numpy()\n",
    "\n",
    "    return_values = tokenize(texts)\n",
    "\n",
    "    padded_sequences = return_values[0]\n",
    "\n",
    "    vocab_list.append(return_values[1])\n",
    "\n",
    "    max_sequence_length = return_values[2]\n",
    "\n",
    "    feature_df_preprocessed[feature] = padded_sequences\n",
    "\n",
    "    split_list = train_val_test_split(padded_sequences)\n",
    "\n",
    "    iterator = 0\n",
    "\n",
    "    print(f\">>> The Feature Splits are saved under the following names:\")\n",
    "\n",
    "    for split in split_list:\n",
    "        variable_name = split_names[iterator]+\"_\"+feature\n",
    "        print(variable_name)\n",
    "        exec(variable_name + \" = split\")\n",
    "        iterator+=1"
   ]
  },
  {
   "attachments": {},
   "cell_type": "markdown",
   "metadata": {},
   "source": [
    "# Model Training"
   ]
  },
  {
   "cell_type": "code",
   "execution_count": 15,
   "metadata": {},
   "outputs": [
    {
     "name": "stderr",
     "output_type": "stream",
     "text": [
      "2023-06-24 15:38:00.716694: I tensorflow/core/platform/cpu_feature_guard.cc:193] This TensorFlow binary is optimized with oneAPI Deep Neural Network Library (oneDNN) to use the following CPU instructions in performance-critical operations:  SSE4.1 SSE4.2\n",
      "To enable them in other operations, rebuild TensorFlow with the appropriate compiler flags.\n"
     ]
    },
    {
     "name": "stdout",
     "output_type": "stream",
     "text": [
      "Model: \"model\"\n",
      "__________________________________________________________________________________________________\n",
      " Layer (type)                   Output Shape         Param #     Connected to                     \n",
      "==================================================================================================\n",
      " input_1 (InputLayer)           [(None, 100)]        0           []                               \n",
      "                                                                                                  \n",
      " input_2 (InputLayer)           [(None, 100)]        0           []                               \n",
      "                                                                                                  \n",
      " input_3 (InputLayer)           [(None, 100)]        0           []                               \n",
      "                                                                                                  \n",
      " embedding (Embedding)          (None, 100, 100)     22379500    ['input_1[0][0]',                \n",
      "                                                                  'input_2[0][0]',                \n",
      "                                                                  'input_3[0][0]']                \n",
      "                                                                                                  \n",
      " lstm (LSTM)                    (None, 64)           42240       ['embedding[0][0]',              \n",
      "                                                                  'embedding[1][0]',              \n",
      "                                                                  'embedding[2][0]']              \n",
      "                                                                                                  \n",
      " concatenate (Concatenate)      (None, 192)          0           ['lstm[0][0]',                   \n",
      "                                                                  'lstm[1][0]',                   \n",
      "                                                                  'lstm[2][0]']                   \n",
      "                                                                                                  \n",
      " dense (Dense)                  (None, 1)            193         ['concatenate[0][0]']            \n",
      "                                                                                                  \n",
      "==================================================================================================\n",
      "Total params: 22,421,933\n",
      "Trainable params: 22,421,933\n",
      "Non-trainable params: 0\n",
      "__________________________________________________________________________________________________\n"
     ]
    }
   ],
   "source": [
    "from tensorflow.keras.layers import Input, Embedding, LSTM, Dense\n",
    "from tensorflow.keras.models import Model\n",
    "from tensorflow.keras.preprocessing.text import Tokenizer\n",
    "from tensorflow.keras.preprocessing.sequence import pad_sequences\n",
    "from tensorflow.keras.layers import concatenate\n",
    "\n",
    "# Define the LSTM model with three text inputs\n",
    "input1 = Input(shape=(max_sequence_length,))\n",
    "input2 = Input(shape=(max_sequence_length,))\n",
    "input3 = Input(shape=(max_sequence_length,))\n",
    "embedding = Embedding(sum(vocab_list), 100)\n",
    "lstm = LSTM(64)\n",
    "dense = Dense(1, activation='linear')\n",
    "\n",
    "embedded1 = embedding(input1)\n",
    "embedded2 = embedding(input2)\n",
    "embedded3 = embedding(input3)\n",
    "lstm1 = lstm(embedded1)\n",
    "lstm2 = lstm(embedded2)\n",
    "lstm3 = lstm(embedded3)\n",
    "concatenated = concatenate([lstm1, lstm2, lstm3])\n",
    "output = dense(concatenated)\n",
    "\n",
    "model = Model(inputs=[input1, input2, input3], outputs=output)\n",
    "model.compile(loss='mean_squared_error', optimizer='adam')\n",
    "\n",
    "model.summary()"
   ]
  },
  {
   "cell_type": "code",
   "execution_count": 16,
   "metadata": {},
   "outputs": [
    {
     "data": {
      "image/png": "[encoded data removed]",
      "text/plain": [
       "<IPython.core.display.Image object>"
      ]
     },
     "execution_count": 16,
     "metadata": {},
     "output_type": "execute_result"
    }
   ],
   "source": [
    "plot_model(model, show_shapes=True)"
   ]
  },
  {
   "cell_type": "code",
   "execution_count": 17,
   "metadata": {},
   "outputs": [
    {
     "name": "stdout",
     "output_type": "stream",
     "text": [
      "Epoch 1/10\n",
      "701/701 [==============================] - 94s 129ms/step - loss: 5.5051e-04 - val_loss: 3.9291e-04\n",
      "Epoch 2/10\n",
      "701/701 [==============================] - 92s 131ms/step - loss: 4.2341e-04 - val_loss: 3.2179e-04\n",
      "Epoch 3/10\n",
      "701/701 [==============================] - 92s 131ms/step - loss: 2.5101e-04 - val_loss: 2.8179e-04\n",
      "Epoch 4/10\n",
      "701/701 [==============================] - 92s 131ms/step - loss: 2.3213e-04 - val_loss: 3.3627e-04\n",
      "Epoch 5/10\n",
      "701/701 [==============================] - 92s 131ms/step - loss: 1.8922e-04 - val_loss: 2.8265e-04\n",
      "Epoch 6/10\n",
      "701/701 [==============================] - 91s 130ms/step - loss: 2.0001e-04 - val_loss: 2.7010e-04\n",
      "Epoch 7/10\n",
      "701/701 [==============================] - 92s 131ms/step - loss: 1.8352e-04 - val_loss: 2.5232e-04\n",
      "Epoch 8/10\n",
      "701/701 [==============================] - 88s 125ms/step - loss: 1.8708e-04 - val_loss: 2.5884e-04\n",
      "Epoch 9/10\n",
      "701/701 [==============================] - 87s 124ms/step - loss: 1.8086e-04 - val_loss: 2.6397e-04\n",
      "Epoch 10/10\n",
      "701/701 [==============================] - 87s 124ms/step - loss: 1.6097e-04 - val_loss: 3.9005e-04\n"
     ]
    },
    {
     "data": {
      "text/plain": [
       "'# Make predictions\\npredictions = model.predict([test_texts_channel_title,test_texts_tags, test_texts_description])\\n\\n# Convert normalized predictions back to original scale\\noriginal_predictions = scaler.inverse_transform(predictions.reshape(-1, 1)).flatten()\\n\\n# Print the predictions\\nfor i, prediction in enumerate(original_predictions):\\n    print(f\"Sample {i+1}: Predicted Views = {prediction}\")'"
      ]
     },
     "execution_count": 17,
     "metadata": {},
     "output_type": "execute_result"
    }
   ],
   "source": [
    "# Train the model\n",
    "batch_size = 32\n",
    "epochs = 10\n",
    "history_three_features = model.fit([train_texts_channel_title, train_texts_tags, train_texts_description], train_targets, batch_size=batch_size, epochs=epochs, validation_data=([val_texts_channel_title, val_texts_tags, val_texts_description], val_targets))\n",
    "\n",
    "'''# Make predictions\n",
    "predictions = model.predict([test_texts_channel_title,test_texts_tags, test_texts_description])\n",
    "\n",
    "# Convert normalized predictions back to original scale\n",
    "original_predictions = scaler.inverse_transform(predictions.reshape(-1, 1)).flatten()\n",
    "\n",
    "# Print the predictions\n",
    "for i, prediction in enumerate(original_predictions):\n",
    "    print(f\"Sample {i+1}: Predicted Views = {prediction}\")'''\n",
    "\n",
    "    # https://stackoverflow.com/questions/65514944/tensorflow-embeddings-invalidargumenterror-indices18-16-11905-is-not-in-0"
   ]
  },
  {
   "attachments": {},
   "cell_type": "markdown",
   "metadata": {},
   "source": [
    "## Singel input benchmark"
   ]
  },
  {
   "cell_type": "code",
   "execution_count": null,
   "metadata": {},
   "outputs": [],
   "source": [
    "'''# Define the LSTM model\n",
    "model = Sequential()\n",
    "model.add(Embedding(vocab_size, 100, input_length=max_sequence_length))\n",
    "model.add(LSTM(64))\n",
    "model.add(Dense(1, activation='linear'))\n",
    "model.compile(loss='mean_squared_error', optimizer='adam')'''"
   ]
  },
  {
   "cell_type": "code",
   "execution_count": null,
   "metadata": {},
   "outputs": [
    {
     "name": "stdout",
     "output_type": "stream",
     "text": [
      "Epoch 1/10\n",
      "701/701 [==============================] - 42s 58ms/step - loss: 5.7358e-04 - val_loss: 6.2133e-04\n",
      "Epoch 2/10\n",
      "701/701 [==============================] - 37s 52ms/step - loss: 4.2834e-04 - val_loss: 5.0082e-04\n",
      "Epoch 3/10\n",
      "701/701 [==============================] - 38s 55ms/step - loss: 3.2502e-04 - val_loss: 3.4616e-04\n",
      "Epoch 4/10\n",
      "701/701 [==============================] - 40s 57ms/step - loss: 2.4866e-04 - val_loss: 2.8923e-04\n",
      "Epoch 5/10\n",
      "701/701 [==============================] - 41s 58ms/step - loss: 2.1050e-04 - val_loss: 2.8746e-04\n",
      "Epoch 6/10\n",
      "701/701 [==============================] - 40s 58ms/step - loss: 2.0737e-04 - val_loss: 3.0628e-04\n",
      "Epoch 7/10\n",
      "701/701 [==============================] - 40s 58ms/step - loss: 2.1138e-04 - val_loss: 2.8668e-04\n",
      "Epoch 8/10\n",
      "701/701 [==============================] - 40s 58ms/step - loss: 1.8486e-04 - val_loss: 2.5614e-04\n",
      "Epoch 9/10\n",
      "701/701 [==============================] - 37s 52ms/step - loss: 1.8657e-04 - val_loss: 3.1524e-04\n",
      "Epoch 10/10\n",
      "701/701 [==============================] - 37s 53ms/step - loss: 1.7802e-04 - val_loss: 2.6193e-04\n"
     ]
    }
   ],
   "source": [
    "'''# Train the model\n",
    "batch_size = 32\n",
    "epochs = 10\n",
    "history = model.fit(train_texts, train_targets, batch_size=batch_size, epochs=epochs, validation_data=(val_texts, val_targets))'''"
   ]
  },
  {
   "attachments": {},
   "cell_type": "markdown",
   "metadata": {},
   "source": [
    "# Model Evaluation"
   ]
  },
  {
   "attachments": {},
   "cell_type": "markdown",
   "metadata": {},
   "source": [
    "## Evaluatie Loss"
   ]
  },
  {
   "cell_type": "code",
   "execution_count": 20,
   "metadata": {},
   "outputs": [
    {
     "data": {
      "image/png": "[encoded data removed]",
      "text/plain": [
       "<Figure size 640x480 with 1 Axes>"
      ]
     },
     "metadata": {},
     "output_type": "display_data"
    }
   ],
   "source": [
    "# Plot training and validation loss\n",
    "\n",
    "# Plot the loss values\n",
    "plt.plot(history_three_features.history['loss'], label='Training Loss')\n",
    "plt.plot(history_three_features.history['val_loss'], label='Validation Loss')\n",
    "plt.xlabel('Epochs')\n",
    "plt.ylabel('Loss')\n",
    "plt.legend()\n",
    "plt.show()"
   ]
  },
  {
   "attachments": {},
   "cell_type": "markdown",
   "metadata": {},
   "source": [
    "## Prediction"
   ]
  },
  {
   "cell_type": "code",
   "execution_count": null,
   "metadata": {},
   "outputs": [
    {
     "name": "stdout",
     "output_type": "stream",
     "text": [
      "101/101 [==============================] - 1s 12ms/step\n",
      "Mean Squared Error (MSE): 4234992105661.891\n",
      "Root Mean Squared Error (RMSE): 2057909.6446787675\n"
     ]
    }
   ],
   "source": [
    "# Make predictions\n",
    "pred = model.predict(test_texts)\n",
    "\n",
    "# Convert normalized predictions back to original scale\n",
    "original_pred = scaler.inverse_transform(pred.reshape(-1, 1)).flatten()\n",
    "original_targets = scaler.inverse_transform(test_targets.reshape(-1, 1)).flatten()\n",
    "\n",
    "# Evaluation metrics\n",
    "mse = mean_squared_error(original_targets, original_pred)\n",
    "rmse = np.sqrt(mse)\n",
    "print(\"Mean Squared Error (MSE):\", mse)\n",
    "print(\"Root Mean Squared Error (RMSE):\", rmse)"
   ]
  },
  {
   "cell_type": "code",
   "execution_count": null,
   "metadata": {},
   "outputs": [
    {
     "data": {
      "image/png": "[encoded data removed]",
      "text/plain": [
       "<Figure size 640x480 with 1 Axes>"
      ]
     },
     "metadata": {},
     "output_type": "display_data"
    }
   ],
   "source": [
    "# Plotting\n",
    "plt.plot(original_targets, label='Targets')\n",
    "plt.plot(original_pred, label='Prediction')\n",
    "\n",
    "# Add labels and title\n",
    "plt.xlabel('Youtube Videos')\n",
    "plt.ylabel('Views')\n",
    "plt.title('Predicted Views')\n",
    "\n",
    "# Add legend\n",
    "plt.legend()\n",
    "\n",
    "# Show the plot\n",
    "plt.show()"
   ]
  }
 ],
 "metadata": {
  "kernelspec": {
   "display_name": "yputube_2",
   "language": "python",
   "name": "python3"
  },
  "language_info": {
   "codemirror_mode": {
    "name": "ipython",
    "version": 3
   },
   "file_extension": ".py",
   "mimetype": "text/x-python",
   "name": "python",
   "nbconvert_exporter": "python",
   "pygments_lexer": "ipython3",
   "version": "3.10.11"
  },
  "orig_nbformat": 4
 },
 "nbformat": 4,
 "nbformat_minor": 2
}
