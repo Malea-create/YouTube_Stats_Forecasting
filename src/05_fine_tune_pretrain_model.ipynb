{
 "cells": [
  {
   "attachments": {},
   "cell_type": "markdown",
   "metadata": {},
   "source": [
    "# Fine Tune Deep Learning Model\n",
    "\n",
    "In diesem Notebook wird ein Deep Learning Model auf die Quelldaten angewendet.\n",
    "\n",
    "## Table of Contents\n",
    "\n",
    "- [Imports](#-Imports)\n",
    "\n",
    "- [Data Loading](##-Data-Loading)\n",
    "\n",
    "- [Preprocessing](#-Preprocessing)\n",
    "\t- [Normalize Targets](##-Normalize-Targets)\n",
    "\t- [Stemmer and Stopwords](##-Apply-Stemmer-and-Remove-Stopwords-from-Text-Features)\n",
    "\n",
    "\t- [Tokenize and Split](##-Tokenize-and-Split-the-Text-Data)\n",
    "\n",
    "- [Model Definition and Training](#-Model-Definition-and-Training)\n",
    "\t- [Use Pretrained Model](##-Use-Pretrained-Model)\n",
    "\n",
    "\t- [Fine-Tune Model](##-Fine-Tuning-the-model)\n",
    "\n",
    "- [Model Evaluation](#-Model-Evaluation)\n",
    "\t- [Evaluate Loss](##-Evaluatie-Loss)\n",
    "\t\n",
    "\t- [Prediction](##-Prediction)\n",
    "\n",
    "- [No-Transfer Benchmark](#-Create-non-Transfer-Benchmark)\n",
    "\t- [Evaluate Loss](##-Evaluatie-Loss)\n",
    "\n",
    "\t- [Prediction](##-Prediction)\n",
    "\n",
    "- [Save Results](#-Save-results-for-comparision)"
   ]
  },
  {
   "attachments": {},
   "cell_type": "markdown",
   "metadata": {},
   "source": [
    "# Imports"
   ]
  },
  {
   "cell_type": "code",
   "execution_count": 5,
   "metadata": {},
   "outputs": [
    {
     "name": "stderr",
     "output_type": "stream",
     "text": [
      "[nltk_data] Downloading package stopwords to\n",
      "[nltk_data]     /Users/leamayer/nltk_data...\n",
      "[nltk_data]   Package stopwords is already up-to-date!\n"
     ]
    }
   ],
   "source": [
    "import pandas as pd\n",
    "import numpy as np\n",
    "import os\n",
    "import tensorflow as tf\n",
    "import time\n",
    "\n",
    "# Preprocessing\n",
    "from tensorflow.keras.preprocessing.text import Tokenizer\n",
    "from tensorflow.keras.preprocessing.sequence import pad_sequences\n",
    "from sklearn.model_selection import train_test_split\n",
    "from sklearn.preprocessing import MinMaxScaler\n",
    "import nltk\n",
    "\n",
    "# Preprocess features\n",
    "from sklearn.feature_extraction.text import TfidfVectorizer\n",
    "from nltk.corpus import stopwords\n",
    "from nltk.stem import SnowballStemmer\n",
    "nltk.download('stopwords')\n",
    "\n",
    "# Preprocess targets\n",
    "from sklearn.preprocessing import MinMaxScaler\n",
    "\n",
    "#LSTM for regression\n",
    "from keras.models import Sequential\n",
    "from tensorflow.keras.layers import Input, Embedding, LSTM, Dense, concatenate\n",
    "from tensorflow.keras.models import Model\n",
    "import keras.optimizers\n",
    "from tensorflow.keras.callbacks import EarlyStopping\n",
    "\n",
    "# Evaluation\n",
    "from sklearn.metrics import mean_squared_error\n",
    "from sklearn.metrics import mean_absolute_percentage_error\n",
    "\n",
    "# Visulization\n",
    "from tensorflow.keras.utils import plot_model\n",
    "import matplotlib.pyplot as plt"
   ]
  },
  {
   "attachments": {},
   "cell_type": "markdown",
   "metadata": {},
   "source": [
    "# Data Loading\n",
    "\n",
    "Zunächst wird das kanadische Youtube-Datenset aus dem Jahr 2012 als das Zieldatenset für dieses Projekt festgelegt. Anschließend werden die textuellen Attribute der Videos als Features und die Views der Videos als Target ausgewählt. "
   ]
  },
  {
   "cell_type": "code",
   "execution_count": 6,
   "metadata": {},
   "outputs": [
    {
     "name": "stdout",
     "output_type": "stream",
     "text": [
      ">>> Created target df (6037)\n"
     ]
    }
   ],
   "source": [
    "# Select Target Dataset\n",
    "\n",
    "target_file = \"CAvideos_12.csv\"\n",
    "\n",
    "df_target = pd.read_csv(\"../Data/processed_data/\"+target_file)\n",
    "df_target = df_target.dropna()\n",
    "\n",
    "df_target = df_target [[\"channel_title\",\"tags\",\"description\", \"title\",\"views\"]]\n",
    "\n",
    "df_target[\"views\"] = df_target[\"views\"].astype(int)\n",
    "\n",
    "print(f\">>> Created target df ({len(df_target)})\")"
   ]
  },
  {
   "cell_type": "code",
   "execution_count": 7,
   "metadata": {},
   "outputs": [],
   "source": [
    "# Loas features and targets\n",
    "\n",
    "feature_df = df_target [[\"channel_title\",\"tags\",\"title\",\"description\"]]  # Text data as numpy list\n",
    "targets = df_target[\"views\"].to_numpy()  # Target data as numpy list\n"
   ]
  },
  {
   "attachments": {},
   "cell_type": "markdown",
   "metadata": {},
   "source": [
    "# Preprocessing"
   ]
  },
  {
   "attachments": {},
   "cell_type": "markdown",
   "metadata": {},
   "source": [
    "## Normalize Targets\n",
    "\n",
    "Die Normalisierung der Zieldaten verbesser die Vergleichbarkeit, Interpretierbarkeit, Konsistenz und Stabilität der Vorhersage. Dafür wird im folgenden der Min-Max Scaler der Sklearn Bibliothek verwendet."
   ]
  },
  {
   "cell_type": "code",
   "execution_count": 8,
   "metadata": {},
   "outputs": [
    {
     "name": "stdout",
     "output_type": "stream",
     "text": [
      ">>> Range from original targets (1295;137843120) has been normalized (0.0;1.0)\n"
     ]
    }
   ],
   "source": [
    "# Normalizing the target values with the min-max normalization\n",
    "\n",
    "scaler = MinMaxScaler()\n",
    "normalized_targets = scaler.fit_transform(targets.reshape(-1, 1)).flatten()\n",
    "\n",
    "print(f\">>> Range from original targets ({targets.min()};{targets.max()}) has been normalized ({normalized_targets.min()};{normalized_targets.max()})\")"
   ]
  },
  {
   "attachments": {},
   "cell_type": "markdown",
   "metadata": {},
   "source": [
    "## Apply Stemmer and Remove Stopwords from Text Features\n",
    "\n",
    "Um Wörter derselben Wortfamilie auf eine gemeinsame Stamm zurückführen, wird im Folgenden ein ***Stemmer*** auf die Features angewendet. Im Gegensatz zu einem Lemmatisierer, der die Wörter auf ihre Grundform reduziert, ist der Stemmer wesentlich schneller, da nur die Wortendungen entfernt werden. Dies kann zu grammatikalisch inkonsistenten Sätzen führen, was aber bei dieser Aufgabe zu vernachlässigen ist.\n",
    "\n",
    "Des weiteren werden semantisch ***unwichtige Wörter*** (die häufig vorkommen) entfernt. Dabei wird auf die nlkt English-Stopwords-Liste zurückgegriffen. Um noch weitere Youtube-spezifische Stowords zu indentifizieren. Werden für jedes Feature 250 weitere Stopwords mithilfe des Tfidf-Scores identifiziert und zu den nlkt Stopwords hinzugefügt. Dieser Score sagt aus, ob ein Wort über alle Youtubevideos hinweg oft vorkommt und dementsprechend semmantisch unwichtig ist."
   ]
  },
  {
   "cell_type": "code",
   "execution_count": 9,
   "metadata": {},
   "outputs": [],
   "source": [
    "# Add content speficic stopwords by select the top N words with the highest TF-IDF scores as potential stopwords\n",
    "\n",
    "def get_content_stopwords(texts):\n",
    "    \n",
    "    vectorizer = TfidfVectorizer() # TfidfVectorizer object from sklearn\n",
    "\n",
    "    tfidf_matrix = vectorizer.fit_transform(texts) \n",
    "\n",
    "    feature_names = vectorizer.get_feature_names_out()\n",
    "\n",
    "    avg_tfidf_scores = tfidf_matrix.mean(axis=0).tolist()[0] # Get average TF-IDF score for each word\n",
    "\n",
    "    word_scores = list(zip(feature_names, avg_tfidf_scores))\n",
    "\n",
    "    word_scores.sort(key=lambda x: x[1], reverse=True) # Sort the word_scores in descending order\n",
    "\n",
    "    N = 250 # Number of stopwords to select\n",
    "    stopwords_content = [word for word, score in word_scores[:N]] # Potential stopwords\n",
    "\n",
    "    print(f\">>> {len(stopwords_content)} content specific stopwords are identified\")\n",
    "\n",
    "    return stopwords_content"
   ]
  },
  {
   "cell_type": "code",
   "execution_count": 10,
   "metadata": {},
   "outputs": [],
   "source": [
    "# Define stemmer and stopwords\n",
    "\n",
    "def get_stopwords(texts):\n",
    "\n",
    "    # Stopwords\n",
    "    stop_words_nlkt = set(stopwords.words('english'))\n",
    "\n",
    "    # add contect speficic stopwords \n",
    "    original_stopword_len = len(stop_words_nlkt)\n",
    "\n",
    "    stop_words = stop_words_nlkt.copy()\n",
    "\n",
    "    stop_words |= set(get_content_stopwords(texts)) # Add the additional wikipedia specific stopwords\n",
    "\n",
    "    merged_stopword_len = len(stop_words)\n",
    "\n",
    "    print(f\">>> {merged_stopword_len-original_stopword_len} additional stopwords have been added to the nlkt stopwords list\")\n",
    "\n",
    "    return stop_words"
   ]
  },
  {
   "cell_type": "code",
   "execution_count": 11,
   "metadata": {},
   "outputs": [
    {
     "name": "stdout",
     "output_type": "stream",
     "text": [
      "\n",
      "--- Preprocessing channel_title feature ---\n",
      "\n",
      ">>> Numbers and words with only one character are removed\n",
      ">>> 250 content specific stopwords are identified\n",
      ">>> 243 additional stopwords have been added to the nlkt stopwords list\n",
      ">>> The Stemmer and the Stopword Removal are applied f.e.:\n",
      "\n",
      "Snapchat\n",
      "snapchat\n",
      "\n",
      "--- Preprocessing tags feature ---\n",
      "\n",
      ">>> Numbers and words with only one character are removed\n",
      ">>> 250 content specific stopwords are identified\n",
      ">>> 230 additional stopwords have been added to the nlkt stopwords list\n"
     ]
    },
    {
     "name": "stdout",
     "output_type": "stream",
     "text": [
      ">>> The Stemmer and the Stopword Removal are applied f.e.:\n",
      "\n",
      "new snapchat|\"version 2\"|\"snap inc\"|\"brandnew\"|\"update\"|\"software\"|\"snap\"|\"new update\"|\"redesign\"|\"reorganize\"|\"Snapchat\"\n",
      "snapchat|\"vers 2\"|\"snap inc\"|\"brandnew\"|\"update\"|\"software\"|\"snap\"|\"new update\"|\"redesign\"|\"reorganize\"|\"snapchat\"\n",
      "\n",
      "--- Preprocessing title feature ---\n",
      "\n",
      ">>> Numbers and words with only one character are removed\n",
      ">>> 250 content specific stopwords are identified\n",
      ">>> 194 additional stopwords have been added to the nlkt stopwords list\n",
      ">>> The Stemmer and the Stopword Removal are applied f.e.:\n",
      "\n",
      "The New Snapchat in 60 Seconds\n",
      "snapchat 60 second\n",
      "\n",
      "--- Preprocessing description feature ---\n",
      "\n",
      ">>> Numbers and words with only one character are removed\n",
      ">>> 250 content specific stopwords are identified\n",
      ">>> 181 additional stopwords have been added to the nlkt stopwords list\n",
      ">>> The Stemmer and the Stopword Removal are applied f.e.:\n",
      "\n",
      "Evan Spiegel, co-founder and CEO, explains the new Snapchat update! Coming soon. Learn more at https://www.snap.com/en-US/news/post/introducing-the-new-snapchat/\n",
      "evan spiegel, co-found ceo, explain update! come soon. learn https://www.snap.com/en-us/news/post/introducing-the-new-snapchat/\n"
     ]
    }
   ],
   "source": [
    "# Apply Stemmer and Stopword removal\n",
    "\n",
    "# Get Stemmer\n",
    "stemmer = SnowballStemmer('english')\n",
    "feature_df_preprocessed = pd.DataFrame()\n",
    "\n",
    "\n",
    "for feature in feature_df:\n",
    "\n",
    "    print(f\"\\n--- Preprocessing {feature} feature ---\\n\")\n",
    "\n",
    "    texts = feature_df[feature].to_numpy()\n",
    "\n",
    "    # Remove numbers and singel characters\n",
    "\n",
    "    texts_preprocessed = [' '.join([word for word in text.split() if not word.isnumeric()]) for text in texts] # Remove numbers\n",
    "    texts_preprocessed = [' '.join([word for word in text.split() if not len(word) > 1]) for text in texts] # Remove words with one character\n",
    "\n",
    "    print(\">>> Numbers and words with only one character are removed\")\n",
    "\n",
    "    # Get Stopwords\n",
    "    stop_words = get_stopwords(texts)\n",
    "\n",
    "    # Remove stop words from the text data and apply stemmer\n",
    "\n",
    "    texts_preprocessed = [' '.join([stemmer.stem(word) for word in text.split() if word.lower() not in stop_words]) for text in texts]\n",
    "\n",
    "    feature_df_preprocessed[feature] = texts_preprocessed\n",
    "\n",
    "    print(\">>> The Stemmer and the Stopword Removal are applied f.e.:\\n\")\n",
    "\n",
    "    print (texts[5]) # show example\n",
    "    print (texts_preprocessed[5])"
   ]
  },
  {
   "attachments": {},
   "cell_type": "markdown",
   "metadata": {},
   "source": [
    "## Tokenize and Split the Text Data\n",
    "\n",
    "Im Folgenden sollen aus den Text Features, Features entstehen, die in einem Modell verarbeitet werden können.\n",
    "Dazu wird der ***Text in Sequencen*** übertragen. \n",
    "\n",
    "Hierfür wird zunächst ein Tokenizer angewendet um den Text in einzelne Wörter zu verlegen. Anschliend werden diese in Zahlen Sequence umgeschrieben und je eine Zahl als Spalte im Dataframe gespeichert. Anschließend werden die Features jeweils in ***Train-Validation-Test Datensätze*** aufgeteilt, da jedes Text-Feature im NN über einen eigenen Input verarbeitet werden muss."
   ]
  },
  {
   "cell_type": "code",
   "execution_count": 12,
   "metadata": {},
   "outputs": [],
   "source": [
    "# Tokenize the text data\n",
    "def tokenize (texts):\n",
    "    \n",
    "    tokenizer = Tokenizer()\n",
    "    tokenizer.fit_on_texts(texts)\n",
    "    sequences = tokenizer.texts_to_sequences(texts)\n",
    "\n",
    "    # Vocabulary size\n",
    "    vocab_size = len(tokenizer.word_index) + 1\n",
    "\n",
    "    # Pad sequences to a fixed length\n",
    "    max_sequence_length = 100\n",
    "    padded_sequences = pad_sequences(sequences, maxlen=max_sequence_length)\n",
    "\n",
    "    return padded_sequences, vocab_size, max_sequence_length"
   ]
  },
  {
   "cell_type": "code",
   "execution_count": 13,
   "metadata": {},
   "outputs": [],
   "source": [
    "# Split the data into training and validation sets\n",
    "def train_val_test_split(padded_sequences):\n",
    "    \n",
    "    train_texts, val_texts = train_test_split( padded_sequences, test_size=0.2, random_state=42) # train-validation split with validation size of 20%\n",
    "    train_texts, test_texts = train_test_split( train_texts, test_size=0.125, random_state=42) # train-test split with test size of 10%\n",
    "\n",
    "    print(f\">>> Text shape train: {train_texts.shape} val: {val_texts.shape} test: {test_texts.shape}\")\n",
    "\n",
    "    return train_texts, val_texts, test_texts"
   ]
  },
  {
   "cell_type": "code",
   "execution_count": 14,
   "metadata": {},
   "outputs": [
    {
     "name": "stdout",
     "output_type": "stream",
     "text": [
      "\n",
      "--- Splitting Target Data ---\n",
      "\n",
      ">>> Target shape train: (4225,) val: (1208,) test: (604,)\n",
      "\n",
      "--- Tokenizing and Splitting channel_title feature ---\n",
      "\n",
      ">>> Text shape train: (4225, 100) val: (1208, 100) test: (604, 100)\n",
      ">>> The Feature Splits are saved under the following names:\n",
      "train_texts_channel_title\n",
      "val_texts_channel_title\n",
      "test_texts_channel_title\n",
      "\n",
      "--- Tokenizing and Splitting tags feature ---\n",
      "\n",
      ">>> Text shape train: (4225, 100) val: (1208, 100) test: (604, 100)\n",
      ">>> The Feature Splits are saved under the following names:\n",
      "train_texts_tags\n",
      "val_texts_tags\n",
      "test_texts_tags\n",
      "\n",
      "--- Tokenizing and Splitting title feature ---\n",
      "\n",
      ">>> Text shape train: (4225, 100) val: (1208, 100) test: (604, 100)\n",
      ">>> The Feature Splits are saved under the following names:\n",
      "train_texts_title\n",
      "val_texts_title\n",
      "test_texts_title\n",
      "\n",
      "--- Tokenizing and Splitting description feature ---\n",
      "\n",
      ">>> Text shape train: (4225, 100) val: (1208, 100) test: (604, 100)\n",
      ">>> The Feature Splits are saved under the following names:\n",
      "train_texts_description\n",
      "val_texts_description\n",
      "test_texts_description\n"
     ]
    }
   ],
   "source": [
    "\n",
    "# Split target data\n",
    "\n",
    "print(f\"\\n--- Splitting Target Data ---\\n\")\n",
    "\n",
    "train_targets, val_targets = train_test_split( normalized_targets, test_size=0.2, random_state=42) # train-validation split with validation size of 20%\n",
    "train_targets, test_targets = train_test_split( train_targets, test_size=0.125, random_state=42) # train-test split with test size of 10%\n",
    "print(f\">>> Target shape train: {train_targets.shape} val: {val_targets.shape} test: {test_targets.shape}\")\n",
    "\n",
    "\n",
    "# Split feature data featurewise\n",
    "\n",
    "split_names = [\"train_texts\", \"val_texts\", \"test_texts\"]\n",
    "vocab_list = []\n",
    "\n",
    "for feature in feature_df_preprocessed:\n",
    "    \n",
    "    print(f\"\\n--- Tokenizing and Splitting {feature} feature ---\\n\")\n",
    "\n",
    "    texts = feature_df_preprocessed[feature].to_numpy()\n",
    "\n",
    "    return_values = tokenize(texts)\n",
    "\n",
    "    padded_sequences = return_values[0]\n",
    "\n",
    "    vocab_list.append(return_values[1])\n",
    "\n",
    "    max_sequence_length = return_values[2]\n",
    "\n",
    "    feature_df_preprocessed[feature] = padded_sequences\n",
    "\n",
    "    split_list = train_val_test_split(padded_sequences)\n",
    "\n",
    "    iterator = 0\n",
    "\n",
    "    print(f\">>> The Feature Splits are saved under the following names:\")\n",
    "\n",
    "    for split in split_list:\n",
    "        variable_name = split_names[iterator]+\"_\"+feature\n",
    "        print(variable_name)\n",
    "        exec(variable_name + \" = split\")\n",
    "        iterator+=1"
   ]
  },
  {
   "attachments": {},
   "cell_type": "markdown",
   "metadata": {},
   "source": [
    "# Model Definition and Training\n",
    "\n",
    "Keras ist in der Lage, über seine funktionale API mehrere Eingaben zu verarbeiten.\n",
    "\n",
    "https://keras.io/guides/functional_api/\n",
    "https://pyimagesearch.com/2019/02/04/keras-multiple-inputs-and-mixed-data/\n",
    "https://neptune.ai/blog/transfer-learning-guide-examples-for-images-and-text-in-keras#:~:text=%60include_top%3DFalse%60%20means%20that,is%20important%20for%20feature%20extraction (An diesen Beispielen wird sich im Folgenden orientiert)\n",
    "\n",
    "Ein Modell mit mehreres Features als Input wurde im vorherigen Notebook vortrainiert. Dieses Modell wird hier verwendet und auf die Zieldaten gefinetund."
   ]
  },
  {
   "attachments": {},
   "cell_type": "markdown",
   "metadata": {},
   "source": [
    "## Use Pretrained Model\n",
    "\n",
    "Zunächst wird das vortrainierte Modell und desser Gewichte geladen. Anschließend werden die Layers des Pretrainedmodells eingefroren, damit diese während des Trainingsprozesses nicht aktualisiert und das Gelernte überschrieben wird `model_pretrain.trainable = False`. Durch `include_top=False` wird die letzte Dense Layer des vortrainierten Modells übernommen. Diese Outputlayer wird neu definiert und dementsprechend spezifisch auf die Zieldaten trainiert. Beim Training wird anschließend nur die letzte Schicht trainiert. Dementsprechend fängt der Loss schon reduziert an. "
   ]
  },
  {
   "cell_type": "code",
   "execution_count": 15,
   "metadata": {},
   "outputs": [
    {
     "name": "stderr",
     "output_type": "stream",
     "text": [
      "2023-07-02 16:23:41.572213: I tensorflow/core/platform/cpu_feature_guard.cc:193] This TensorFlow binary is optimized with oneAPI Deep Neural Network Library (oneDNN) to use the following CPU instructions in performance-critical operations:  SSE4.1 SSE4.2\n",
      "To enable them in other operations, rebuild TensorFlow with the appropriate compiler flags.\n"
     ]
    },
    {
     "name": "stdout",
     "output_type": "stream",
     "text": [
      "Model: \"model_2\"\n",
      "__________________________________________________________________________________________________\n",
      " Layer (type)                   Output Shape         Param #     Connected to                     \n",
      "==================================================================================================\n",
      " input_9 (InputLayer)           [(None, 100)]        0           []                               \n",
      "                                                                                                  \n",
      " input_10 (InputLayer)          [(None, 100)]        0           []                               \n",
      "                                                                                                  \n",
      " input_11 (InputLayer)          [(None, 100)]        0           []                               \n",
      "                                                                                                  \n",
      " input_12 (InputLayer)          [(None, 100)]        0           []                               \n",
      "                                                                                                  \n",
      " embedding_2 (Embedding)        (None, 100, 100)     27314600    ['input_9[0][0]',                \n",
      "                                                                  'input_10[0][0]',               \n",
      "                                                                  'input_11[0][0]',               \n",
      "                                                                  'input_12[0][0]']               \n",
      "                                                                                                  \n",
      " lstm_2 (LSTM)                  (None, 64)           42240       ['embedding_2[0][0]',            \n",
      "                                                                  'embedding_2[1][0]',            \n",
      "                                                                  'embedding_2[2][0]',            \n",
      "                                                                  'embedding_2[3][0]']            \n",
      "                                                                                                  \n",
      " concatenate_2 (Concatenate)    (None, 256)          0           ['lstm_2[0][0]',                 \n",
      "                                                                  'lstm_2[1][0]',                 \n",
      "                                                                  'lstm_2[2][0]',                 \n",
      "                                                                  'lstm_2[3][0]']                 \n",
      "                                                                                                  \n",
      " dense_2 (Dense)                (None, 1)            257         ['concatenate_2[0][0]']          \n",
      "                                                                                                  \n",
      "==================================================================================================\n",
      "Total params: 27,357,097\n",
      "Trainable params: 27,357,097\n",
      "Non-trainable params: 0\n",
      "__________________________________________________________________________________________________\n"
     ]
    }
   ],
   "source": [
    "model_pretrain = tf.keras.models.load_model('weights/source_lstm_model.h5')\n",
    "model_pretrain.load_weights('weights/source_lstm_model_weights.h5')\n",
    "model_pretrain.summary()\n",
    "\n",
    "model_pretrain.include_top = False\n",
    "model_pretrain.trainable = False"
   ]
  },
  {
   "cell_type": "code",
   "execution_count": 16,
   "metadata": {},
   "outputs": [
    {
     "name": "stdout",
     "output_type": "stream",
     "text": [
      "Model: \"model\"\n",
      "__________________________________________________________________________________________________\n",
      " Layer (type)                   Output Shape         Param #     Connected to                     \n",
      "==================================================================================================\n",
      " input_1 (InputLayer)           [(None, 100)]        0           []                               \n",
      "                                                                                                  \n",
      " input_2 (InputLayer)           [(None, 100)]        0           []                               \n",
      "                                                                                                  \n",
      " input_3 (InputLayer)           [(None, 100)]        0           []                               \n",
      "                                                                                                  \n",
      " input_4 (InputLayer)           [(None, 100)]        0           []                               \n",
      "                                                                                                  \n",
      " model_2 (Functional)           (None, 1)            27357097    ['input_1[0][0]',                \n",
      "                                                                  'input_2[0][0]',                \n",
      "                                                                  'input_3[0][0]',                \n",
      "                                                                  'input_4[0][0]']                \n",
      "                                                                                                  \n",
      " dense (Dense)                  (None, 1)            2           ['model_2[0][0]']                \n",
      "                                                                                                  \n",
      "==================================================================================================\n",
      "Total params: 27,357,099\n",
      "Trainable params: 2\n",
      "Non-trainable params: 27,357,097\n",
      "__________________________________________________________________________________________________\n"
     ]
    }
   ],
   "source": [
    "input1 = Input(shape=(max_sequence_length,))\n",
    "input2 = Input(shape=(max_sequence_length,))\n",
    "input3 = Input(shape=(max_sequence_length,))\n",
    "input4 = Input(shape=(max_sequence_length,))\n",
    "\n",
    "#x = Flatten(name='flatten')(model_pretrain)\n",
    "x = model_pretrain(inputs=[input1, input2, input3, input4], training=False)\n",
    "x = Dense(1, activation='linear')(x)\n",
    "\n",
    "# Create Transfer Model\n",
    "transfer_model = Model(inputs=[input1, input2, input3, input4], outputs=x)\n",
    "transfer_model.compile(loss='mean_squared_error', optimizer='adam')\n",
    "\n",
    "transfer_model.summary()"
   ]
  },
  {
   "cell_type": "code",
   "execution_count": 17,
   "metadata": {},
   "outputs": [
    {
     "data": {
      "image/png": "[encoded data removed]",
      "text/plain": [
       "<IPython.core.display.Image object>"
      ]
     },
     "execution_count": 17,
     "metadata": {},
     "output_type": "execute_result"
    }
   ],
   "source": [
    "plot_model(transfer_model, show_shapes=True)"
   ]
  },
  {
   "cell_type": "code",
   "execution_count": 18,
   "metadata": {},
   "outputs": [],
   "source": [
    "callbacks = [\n",
    "            EarlyStopping(patience = 10)\n",
    "            ]"
   ]
  },
  {
   "cell_type": "code",
   "execution_count": 19,
   "metadata": {},
   "outputs": [
    {
     "name": "stdout",
     "output_type": "stream",
     "text": [
      "Epoch 1/10\n",
      "133/133 [==============================] - 8s 33ms/step - loss: 0.0016 - val_loss: 0.0012\n",
      "Epoch 2/10\n",
      "133/133 [==============================] - 4s 29ms/step - loss: 0.0016 - val_loss: 0.0012\n",
      "Epoch 3/10\n",
      "133/133 [==============================] - 3s 26ms/step - loss: 0.0016 - val_loss: 0.0012\n",
      "Epoch 4/10\n",
      "133/133 [==============================] - 3s 25ms/step - loss: 0.0015 - val_loss: 0.0011\n",
      "Epoch 5/10\n",
      "133/133 [==============================] - 3s 26ms/step - loss: 0.0015 - val_loss: 0.0011\n",
      "Epoch 6/10\n",
      "133/133 [==============================] - 3s 25ms/step - loss: 0.0015 - val_loss: 0.0011\n",
      "Epoch 7/10\n",
      "133/133 [==============================] - 4s 27ms/step - loss: 0.0015 - val_loss: 0.0011\n",
      "Epoch 8/10\n",
      "133/133 [==============================] - 3s 24ms/step - loss: 0.0015 - val_loss: 0.0011\n",
      "Epoch 9/10\n",
      "133/133 [==============================] - 4s 27ms/step - loss: 0.0015 - val_loss: 0.0011\n",
      "Epoch 10/10\n",
      "133/133 [==============================] - 4s 27ms/step - loss: 0.0015 - val_loss: 0.0011\n"
     ]
    }
   ],
   "source": [
    "# Train the model\n",
    "batch_size = 32\n",
    "epochs = 10\n",
    "start_time = time.time()\n",
    "history_transfer_model = transfer_model.fit([train_texts_channel_title, train_texts_tags, train_texts_description, train_texts_title],\n",
    "                                   train_targets,\n",
    "                                   batch_size=batch_size,\n",
    "                                   epochs=epochs,\n",
    "                                   validation_data=([val_texts_channel_title, val_texts_tags, val_texts_description, val_texts_title], val_targets), \n",
    "                                   callbacks=callbacks)\n",
    "end_time = time.time()\n",
    "transfer_execution_time = end_time - start_time"
   ]
  },
  {
   "attachments": {},
   "cell_type": "markdown",
   "metadata": {},
   "source": [
    "## Fine Tuning the model\n",
    "Um das Modell noch weiter zu verbessern Modell, können die eingefrorenen Layers wieder aufgetaut werden und mit einer sehr niedrigen Lernrate neu trainiert werden. Im folgenden werden dafür mehrere Lernraten ausprobiert. (1e-4,1e-5)"
   ]
  },
  {
   "cell_type": "code",
   "execution_count": 25,
   "metadata": {},
   "outputs": [
    {
     "name": "stdout",
     "output_type": "stream",
     "text": [
      "Model: \"model_2\"\n",
      "__________________________________________________________________________________________________\n",
      " Layer (type)                   Output Shape         Param #     Connected to                     \n",
      "==================================================================================================\n",
      " input_9 (InputLayer)           [(None, 100)]        0           []                               \n",
      "                                                                                                  \n",
      " input_10 (InputLayer)          [(None, 100)]        0           []                               \n",
      "                                                                                                  \n",
      " input_11 (InputLayer)          [(None, 100)]        0           []                               \n",
      "                                                                                                  \n",
      " input_12 (InputLayer)          [(None, 100)]        0           []                               \n",
      "                                                                                                  \n",
      " model_2 (Functional)           (None, 1)            27357097    ['input_9[0][0]',                \n",
      "                                                                  'input_10[0][0]',               \n",
      "                                                                  'input_11[0][0]',               \n",
      "                                                                  'input_12[0][0]']               \n",
      "                                                                                                  \n",
      " dense_2 (Dense)                (None, 1)            2           ['model_2[2][0]']                \n",
      "                                                                                                  \n",
      "==================================================================================================\n",
      "Total params: 27,357,099\n",
      "Trainable params: 27,357,099\n",
      "Non-trainable params: 0\n",
      "__________________________________________________________________________________________________\n"
     ]
    }
   ],
   "source": [
    "model_pretrain.trainable = True\n",
    "\n",
    "input1 = Input(shape=(max_sequence_length,))\n",
    "input2 = Input(shape=(max_sequence_length,))\n",
    "input3 = Input(shape=(max_sequence_length,))\n",
    "input4 = Input(shape=(max_sequence_length,))\n",
    "\n",
    "#x = Flatten(name='flatten')(model_pretrain)\n",
    "x = model_pretrain(inputs=[input1, input2, input3, input4], training=False)\n",
    "x = Dense(1, activation='linear')(x)\n",
    "\n",
    "# Fine tuned Model \n",
    "\n",
    "fine_tuned_model = Model(inputs=[input1, input2, input3, input4], outputs=x)\n",
    "\n",
    "fine_tuned_model.compile(loss='mean_squared_error', optimizer=keras.optimizers.Adam(1e-5))\n",
    "\n",
    "fine_tuned_model.summary()"
   ]
  },
  {
   "cell_type": "code",
   "execution_count": 26,
   "metadata": {},
   "outputs": [
    {
     "name": "stdout",
     "output_type": "stream",
     "text": [
      "Epoch 1/10\n",
      "133/133 [==============================] - 25s 159ms/step - loss: 0.0011 - val_loss: 7.2158e-04\n",
      "Epoch 2/10\n",
      "133/133 [==============================] - 19s 144ms/step - loss: 4.5207e-04 - val_loss: 4.1261e-04\n",
      "Epoch 3/10\n",
      "133/133 [==============================] - 19s 143ms/step - loss: 3.2079e-04 - val_loss: 3.4992e-04\n",
      "Epoch 4/10\n",
      "133/133 [==============================] - 21s 160ms/step - loss: 3.0875e-04 - val_loss: 3.4001e-04\n",
      "Epoch 5/10\n",
      "133/133 [==============================] - 22s 162ms/step - loss: 3.4953e-04 - val_loss: 3.2490e-04\n",
      "Epoch 6/10\n",
      "133/133 [==============================] - 19s 144ms/step - loss: 2.3522e-04 - val_loss: 3.8135e-04\n",
      "Epoch 7/10\n",
      "133/133 [==============================] - 22s 163ms/step - loss: 2.2665e-04 - val_loss: 3.2486e-04\n",
      "Epoch 8/10\n",
      "133/133 [==============================] - 23s 174ms/step - loss: 2.6740e-04 - val_loss: 3.8433e-04\n",
      "Epoch 9/10\n",
      "133/133 [==============================] - 21s 156ms/step - loss: 2.6085e-04 - val_loss: 3.5452e-04\n",
      "Epoch 10/10\n",
      "133/133 [==============================] - 20s 153ms/step - loss: 2.1221e-04 - val_loss: 2.9138e-04\n"
     ]
    }
   ],
   "source": [
    "# Train the model\n",
    "batch_size = 32\n",
    "epochs = 10\n",
    "start_time = time.time()\n",
    "history_fine_tuning = fine_tuned_model.fit([train_texts_channel_title, train_texts_tags, train_texts_description, train_texts_title],\n",
    "                                   train_targets,\n",
    "                                   batch_size=batch_size,\n",
    "                                   epochs=epochs,\n",
    "                                   validation_data=([val_texts_channel_title, val_texts_tags, val_texts_description, val_texts_title], val_targets), \n",
    "                                   callbacks=callbacks)\n",
    "\n",
    "end_time = time.time()\n",
    "fine_tuned_execution_time = end_time - start_time"
   ]
  },
  {
   "attachments": {},
   "cell_type": "markdown",
   "metadata": {},
   "source": [
    "# Model Evaluation"
   ]
  },
  {
   "attachments": {},
   "cell_type": "markdown",
   "metadata": {},
   "source": [
    "## Evaluatie Loss"
   ]
  },
  {
   "cell_type": "code",
   "execution_count": null,
   "metadata": {},
   "outputs": [
    {
     "data": {
      "image/png": "[encoded data removed]",
      "text/plain": [
       "<Figure size 640x480 with 1 Axes>"
      ]
     },
     "metadata": {},
     "output_type": "display_data"
    }
   ],
   "source": [
    "# Plot training and validation loss\n",
    "\n",
    "# Plot the loss values\n",
    "plt.plot(history_transfer_model.history['loss'], label='Training Loss')\n",
    "plt.plot(history_transfer_model.history['val_loss'], label='Validation Loss')\n",
    "plt.plot(history_fine_tuning.history['loss'], label='Fine_Training Loss')\n",
    "plt.plot(history_fine_tuning.history['val_loss'], label='Fine_Validation Loss')\n",
    "plt.xlabel('Epochs')\n",
    "plt.ylabel('Loss')\n",
    "plt.legend()\n",
    "plt.show()"
   ]
  },
  {
   "attachments": {},
   "cell_type": "markdown",
   "metadata": {},
   "source": [
    "## Prediction"
   ]
  },
  {
   "cell_type": "code",
   "execution_count": null,
   "metadata": {},
   "outputs": [
    {
     "name": "stdout",
     "output_type": "stream",
     "text": [
      "19/19 [==============================] - 0s 21ms/step\n",
      "Mean Squared Error (MSE): 25748832020196.12\n",
      "Mean Absolute Percentage Error (MAPE): 15.008175997161343\n",
      "Root Mean Squared Error (RMSE): 5074330.696771361\n"
     ]
    }
   ],
   "source": [
    "# Make predictions\n",
    "pred = transfer_model.predict([test_texts_channel_title,test_texts_tags, test_texts_description, test_texts_title])\n",
    "\n",
    "# Convert normalized predictions back to original scale\n",
    "original_pred = scaler.inverse_transform(pred.reshape(-1, 1)).flatten()\n",
    "original_targets = scaler.inverse_transform(test_targets.reshape(-1, 1)).flatten()\n",
    "\n",
    "# Evaluation metrics\n",
    "mse_transfer = mean_squared_error(original_targets, original_pred)\n",
    "mape_transfer = mean_absolute_percentage_error(original_targets, original_pred)\n",
    "rmse_transfer = np.sqrt(mse_transfer)\n",
    "print(\"Mean Squared Error (MSE):\", mse_transfer)\n",
    "print(\"Mean Absolute Percentage Error (MAPE):\", mape_transfer)\n",
    "print(\"Root Mean Squared Error (RMSE):\", rmse_transfer)"
   ]
  },
  {
   "cell_type": "code",
   "execution_count": 27,
   "metadata": {},
   "outputs": [
    {
     "name": "stdout",
     "output_type": "stream",
     "text": [
      "19/19 [==============================] - 1s 21ms/step\n",
      "Mean Squared Error (MSE): 2169281470283.9744\n",
      "Mean Absolute Percentage Error (MAPE): 6.775220225000618\n",
      "Root Mean Squared Error (RMSE): 1472848.0811964194\n"
     ]
    }
   ],
   "source": [
    "# Make predictions\n",
    "pred_fine = fine_tuned_model.predict([test_texts_channel_title,test_texts_tags, test_texts_description, test_texts_title])\n",
    "\n",
    "# Convert normalized predictions back to original scale\n",
    "original_pred_fine = scaler.inverse_transform(pred_fine.reshape(-1, 1)).flatten()\n",
    "original_targets = scaler.inverse_transform(test_targets.reshape(-1, 1)).flatten()\n",
    "\n",
    "# Evaluation metrics\n",
    "mse_fine = mean_squared_error(original_targets, original_pred_fine)\n",
    "mape_fine = mean_absolute_percentage_error(original_targets, original_pred_fine)\n",
    "rmse_fine = np.sqrt(mse_fine)\n",
    "print(\"Mean Squared Error (MSE):\", mse_fine)\n",
    "print(\"Mean Absolute Percentage Error (MAPE):\", mape_fine)\n",
    "print(\"Root Mean Squared Error (RMSE):\", rmse_fine)"
   ]
  },
  {
   "cell_type": "code",
   "execution_count": null,
   "metadata": {},
   "outputs": [
    {
     "data": {
      "image/png": "[encoded data removed]",
      "text/plain": [
       "<Figure size 640x480 with 1 Axes>"
      ]
     },
     "metadata": {},
     "output_type": "display_data"
    }
   ],
   "source": [
    "# Plotting\n",
    "plt.plot(original_targets, label='Targets')\n",
    "plt.plot(original_pred, label='Prediction')\n",
    "plt.plot(original_pred_fine, label='Fine_Prediction')\n",
    "\n",
    "# Add labels and title\n",
    "plt.xlabel('Youtube Videos')\n",
    "plt.ylabel('Views')\n",
    "plt.title('Predicted Views')\n",
    "plt.xlim((0, 50))\n",
    "\n",
    "# Add legend\n",
    "plt.legend()\n",
    "\n",
    "# Show the plot\n",
    "plt.show()"
   ]
  },
  {
   "attachments": {},
   "cell_type": "markdown",
   "metadata": {},
   "source": [
    "# Create non Transfer Benchmark\n",
    "\n",
    "Als Benchmark wird hier noch ein Modell ohne das Vortrainierte Modell alleine basierend auf den Zieldaten trainiert."
   ]
  },
  {
   "cell_type": "code",
   "execution_count": null,
   "metadata": {},
   "outputs": [
    {
     "name": "stdout",
     "output_type": "stream",
     "text": [
      "Model: \"model_2\"\n",
      "__________________________________________________________________________________________________\n",
      " Layer (type)                   Output Shape         Param #     Connected to                     \n",
      "==================================================================================================\n",
      " input_9 (InputLayer)           [(None, 100)]        0           []                               \n",
      "                                                                                                  \n",
      " input_10 (InputLayer)          [(None, 100)]        0           []                               \n",
      "                                                                                                  \n",
      " input_11 (InputLayer)          [(None, 100)]        0           []                               \n",
      "                                                                                                  \n",
      " input_12 (InputLayer)          [(None, 100)]        0           []                               \n",
      "                                                                                                  \n",
      " embedding (Embedding)          (None, 100, 100)     8040000     ['input_9[0][0]',                \n",
      "                                                                  'input_10[0][0]',               \n",
      "                                                                  'input_11[0][0]',               \n",
      "                                                                  'input_12[0][0]']               \n",
      "                                                                                                  \n",
      " lstm (LSTM)                    (None, 64)           42240       ['embedding[0][0]',              \n",
      "                                                                  'embedding[1][0]',              \n",
      "                                                                  'embedding[2][0]',              \n",
      "                                                                  'embedding[3][0]']              \n",
      "                                                                                                  \n",
      " concatenate (Concatenate)      (None, 256)          0           ['lstm[0][0]',                   \n",
      "                                                                  'lstm[1][0]',                   \n",
      "                                                                  'lstm[2][0]',                   \n",
      "                                                                  'lstm[3][0]']                   \n",
      "                                                                                                  \n",
      " dense_2 (Dense)                (None, 1)            257         ['concatenate[0][0]']            \n",
      "                                                                                                  \n",
      "==================================================================================================\n",
      "Total params: 8,082,497\n",
      "Trainable params: 8,082,497\n",
      "Non-trainable params: 0\n",
      "__________________________________________________________________________________________________\n"
     ]
    }
   ],
   "source": [
    "# Define the LSTM model with three text inputs\n",
    "input1 = Input(shape=(max_sequence_length,))\n",
    "input2 = Input(shape=(max_sequence_length,))\n",
    "input3 = Input(shape=(max_sequence_length,))\n",
    "input4 = Input(shape=(max_sequence_length,))\n",
    "\n",
    "# Define layers\n",
    "embedding = Embedding(sum(vocab_list), 100)\n",
    "lstm = LSTM(64)\n",
    "dense = Dense(1, activation='linear')\n",
    "\n",
    "# Apply Layers to input\n",
    "embedded1 = embedding(input1)\n",
    "embedded2 = embedding(input2)\n",
    "embedded3 = embedding(input3)\n",
    "embedded4 = embedding(input4)\n",
    "lstm1 = lstm(embedded1)\n",
    "lstm2 = lstm(embedded2)\n",
    "lstm3 = lstm(embedded3)\n",
    "lstm4 = lstm(embedded4)\n",
    "concatenated = concatenate([lstm1, lstm2, lstm3, lstm4])\n",
    "output = dense(concatenated)\n",
    "\n",
    "benchmark_model = Model(inputs=[input1, input2, input3, input4], outputs=output)\n",
    "benchmark_model.compile(loss='mean_squared_error', optimizer='adam')\n",
    "\n",
    "benchmark_model.summary()"
   ]
  },
  {
   "cell_type": "code",
   "execution_count": null,
   "metadata": {},
   "outputs": [
    {
     "name": "stdout",
     "output_type": "stream",
     "text": [
      "Epoch 1/10\n",
      "133/133 [==============================] - 19s 110ms/step - loss: 0.0011 - val_loss: 7.0445e-04\n",
      "Epoch 2/10\n",
      "133/133 [==============================] - 13s 99ms/step - loss: 6.1812e-04 - val_loss: 5.7734e-04\n",
      "Epoch 3/10\n",
      "133/133 [==============================] - 13s 101ms/step - loss: 6.0044e-04 - val_loss: 5.3271e-04\n",
      "Epoch 4/10\n",
      "133/133 [==============================] - 14s 103ms/step - loss: 4.3492e-04 - val_loss: 4.1094e-04\n",
      "Epoch 5/10\n",
      "133/133 [==============================] - 14s 105ms/step - loss: 3.7784e-04 - val_loss: 3.3896e-04\n",
      "Epoch 6/10\n",
      "133/133 [==============================] - 14s 107ms/step - loss: 2.9280e-04 - val_loss: 2.9614e-04\n",
      "Epoch 7/10\n",
      "133/133 [==============================] - 15s 110ms/step - loss: 2.9252e-04 - val_loss: 3.6462e-04\n",
      "Epoch 8/10\n",
      "133/133 [==============================] - 15s 110ms/step - loss: 2.5703e-04 - val_loss: 3.0209e-04\n",
      "Epoch 9/10\n",
      "133/133 [==============================] - 15s 112ms/step - loss: 2.7370e-04 - val_loss: 3.3601e-04\n",
      "Epoch 10/10\n",
      "133/133 [==============================] - 15s 111ms/step - loss: 2.4742e-04 - val_loss: 3.6923e-04\n"
     ]
    }
   ],
   "source": [
    "# Train the model\n",
    "batch_size = 32\n",
    "epochs = 10\n",
    "start_time = time.time()\n",
    "benchmark_history = benchmark_model.fit([train_texts_channel_title, train_texts_tags, train_texts_description, train_texts_title],\n",
    "                                   train_targets,\n",
    "                                   batch_size=batch_size,\n",
    "                                   epochs=epochs,\n",
    "                                   validation_data=([val_texts_channel_title, val_texts_tags, val_texts_description, val_texts_title], val_targets), \n",
    "                                   callbacks=callbacks)\n",
    "\n",
    "end_time = time.time()\n",
    "base_execution_time = end_time - start_time"
   ]
  },
  {
   "attachments": {},
   "cell_type": "markdown",
   "metadata": {},
   "source": [
    "## Evaluatie Loss"
   ]
  },
  {
   "cell_type": "code",
   "execution_count": null,
   "metadata": {},
   "outputs": [
    {
     "data": {
      "image/png": "[encoded data removed]",
      "text/plain": [
       "<Figure size 640x480 with 1 Axes>"
      ]
     },
     "metadata": {},
     "output_type": "display_data"
    }
   ],
   "source": [
    "# Plot training and validation loss\n",
    "\n",
    "# Plot the loss values\n",
    "plt.plot(benchmark_history.history['loss'], label='Training Loss')\n",
    "plt.plot(benchmark_history.history['val_loss'], label='Validation Loss')\n",
    "plt.xlabel('Epochs')\n",
    "plt.ylabel('Loss')\n",
    "plt.legend()\n",
    "plt.show()"
   ]
  },
  {
   "attachments": {},
   "cell_type": "markdown",
   "metadata": {},
   "source": [
    "## Prediction"
   ]
  },
  {
   "cell_type": "code",
   "execution_count": null,
   "metadata": {},
   "outputs": [
    {
     "name": "stdout",
     "output_type": "stream",
     "text": [
      "19/19 [==============================] - 1s 23ms/step\n",
      "Mean Squared Error (MSE): 4218221805090.068\n",
      "Mean Absolute Percentage Error (MSE): 10.001443331215457\n",
      "Root Mean Squared Error (RMSE): 2053831.00694533\n"
     ]
    }
   ],
   "source": [
    "# Make predictions\n",
    "pred = benchmark_model.predict([test_texts_channel_title,test_texts_tags, test_texts_description, test_texts_title])\n",
    "\n",
    "# Convert normalized predictions back to original scale\n",
    "original_pred_bench = scaler.inverse_transform(pred.reshape(-1, 1)).flatten()\n",
    "original_targets = scaler.inverse_transform(test_targets.reshape(-1, 1)).flatten()\n",
    "\n",
    "# Evaluation metrics\n",
    "mse_bench = mean_squared_error(original_targets, original_pred_bench)\n",
    "mape_bench = mean_absolute_percentage_error(original_targets, original_pred_bench)\n",
    "rmse_bench = np.sqrt(mse_bench)\n",
    "print(\"Mean Squared Error (MSE):\", mse_bench)\n",
    "print(\"Mean Absolute Percentage Error (MSE):\", mape_bench)\n",
    "print(\"Root Mean Squared Error (RMSE):\", rmse_bench)"
   ]
  },
  {
   "cell_type": "code",
   "execution_count": null,
   "metadata": {},
   "outputs": [
    {
     "data": {
      "image/png": "[encoded data removed]",
      "text/plain": [
       "<Figure size 640x480 with 1 Axes>"
      ]
     },
     "metadata": {},
     "output_type": "display_data"
    }
   ],
   "source": [
    "# Plotting\n",
    "plt.plot(original_targets, label='Targets')\n",
    "plt.plot(original_pred_bench, label='Prediction')\n",
    "\n",
    "# Add labels and title\n",
    "plt.xlabel('Youtube Videos')\n",
    "plt.ylabel('Views')\n",
    "plt.title('Predicted Views')\n",
    "plt.xlim((0, 50))\n",
    "\n",
    "# Add legend\n",
    "plt.legend()\n",
    "\n",
    "# Show the plot\n",
    "plt.show()"
   ]
  },
  {
   "attachments": {},
   "cell_type": "markdown",
   "metadata": {},
   "source": [
    "# Save results for comparision"
   ]
  },
  {
   "cell_type": "code",
   "execution_count": 28,
   "metadata": {},
   "outputs": [],
   "source": [
    "# Save results for comparison\n",
    "\n",
    "# Load the df\n",
    "df = pd.read_csv('results/results_deep.csv')\n",
    "\n",
    "# Add a new columns\n",
    "df['deep_trasfer'] = original_pred\n",
    "df['deep_fine_1e_5'] = original_pred_fine\n",
    "df['deep_base'] = original_pred_fine\n",
    "df['targets'] = original_targets\n",
    "\n",
    "# Save the modified df\n",
    "df.to_csv('results/results_deep.csv', index=False)\n"
   ]
  },
  {
   "cell_type": "code",
   "execution_count": 29,
   "metadata": {},
   "outputs": [],
   "source": [
    "# Save metric results for comparison\n",
    "\n",
    "# Load the df\n",
    "df = pd.read_csv('results/metrics_deep.csv')\n",
    "\n",
    "# Add a new columns\n",
    "df['deep_trasfer'] = [mse_transfer, mape_transfer, rmse_transfer, transfer_execution_time]\n",
    "df['deep_fine_1e_5'] = [mse_fine, mape_fine, rmse_fine, fine_tuned_execution_time]\n",
    "df['deep_base'] = [mse_bench, mape_bench, rmse_bench, base_execution_time]\n",
    "\n",
    "# Save the modified df\n",
    "df.to_csv('results/metrics_deep.csv', index=False)"
   ]
  }
 ],
 "metadata": {
  "kernelspec": {
   "display_name": "yputube_2",
   "language": "python",
   "name": "python3"
  },
  "language_info": {
   "codemirror_mode": {
    "name": "ipython",
    "version": 3
   },
   "file_extension": ".py",
   "mimetype": "text/x-python",
   "name": "python",
   "nbconvert_exporter": "python",
   "pygments_lexer": "ipython3",
   "version": "3.10.11"
  },
  "orig_nbformat": 4
 },
 "nbformat": 4,
 "nbformat_minor": 2
}
