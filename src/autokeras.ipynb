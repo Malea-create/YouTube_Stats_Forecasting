{
 "cells": [
  {
   "attachments": {},
   "cell_type": "markdown",
   "metadata": {},
   "source": [
    "# Imports"
   ]
  },
  {
   "cell_type": "code",
   "execution_count": 158,
   "metadata": {},
   "outputs": [
    {
     "name": "stderr",
     "output_type": "stream",
     "text": [
      "[nltk_data] Downloading package stopwords to\n",
      "[nltk_data]     /Users/leamayer/nltk_data...\n",
      "[nltk_data]   Package stopwords is already up-to-date!\n"
     ]
    }
   ],
   "source": [
    "import pandas as pd\n",
    "import numpy as np\n",
    "\n",
    "# Preprocessing\n",
    "from tensorflow.keras.preprocessing.text import Tokenizer\n",
    "from tensorflow.keras.preprocessing.sequence import pad_sequences\n",
    "from sklearn.model_selection import train_test_split\n",
    "from sklearn.preprocessing import MinMaxScaler\n",
    "import nltk\n",
    "\n",
    "# Preprocess features\n",
    "from sklearn.feature_extraction.text import TfidfVectorizer\n",
    "from nltk.corpus import stopwords\n",
    "from nltk.stem import SnowballStemmer\n",
    "nltk.download('stopwords')\n",
    "\n",
    "# Preprocess targets\n",
    "from sklearn.preprocessing import MinMaxScaler\n",
    "\n",
    "#LSTM for regression\n",
    "from keras.models import Sequential\n",
    "from keras.layers import Dense\n",
    "from keras.layers import LSTM\n",
    "from sklearn.preprocessing import MinMaxScaler\n",
    "from sklearn.metrics import mean_squared_error\n",
    "\n",
    "# Evaluation\n",
    "\n",
    "# Visulization\n",
    "from tensorflow.keras.utils import plot_model\n",
    "import matplotlib.pyplot as plt"
   ]
  },
  {
   "attachments": {},
   "cell_type": "markdown",
   "metadata": {},
   "source": [
    "## Data Loading"
   ]
  },
  {
   "cell_type": "code",
   "execution_count": 159,
   "metadata": {},
   "outputs": [
    {
     "data": {
      "text/html": [
       "<div>\n",
       "<style scoped>\n",
       "    .dataframe tbody tr th:only-of-type {\n",
       "        vertical-align: middle;\n",
       "    }\n",
       "\n",
       "    .dataframe tbody tr th {\n",
       "        vertical-align: top;\n",
       "    }\n",
       "\n",
       "    .dataframe thead th {\n",
       "        text-align: right;\n",
       "    }\n",
       "</style>\n",
       "<table border=\"1\" class=\"dataframe\">\n",
       "  <thead>\n",
       "    <tr style=\"text-align: right;\">\n",
       "      <th></th>\n",
       "      <th>channel_title</th>\n",
       "      <th>tags</th>\n",
       "      <th>description</th>\n",
       "      <th>views</th>\n",
       "    </tr>\n",
       "  </thead>\n",
       "  <tbody>\n",
       "    <tr>\n",
       "      <th>0</th>\n",
       "      <td>EminemVEVO</td>\n",
       "      <td>Eminem|\"Walk\"|\"On\"|\"Water\"|\"Aftermath/Shady/In...</td>\n",
       "      <td>Eminem's new track Walk on Water ft. Beyoncé i...</td>\n",
       "      <td>17158579</td>\n",
       "    </tr>\n",
       "    <tr>\n",
       "      <th>1</th>\n",
       "      <td>iDubbbzTV</td>\n",
       "      <td>plush|\"bad unboxing\"|\"unboxing\"|\"fan mail\"|\"id...</td>\n",
       "      <td>STill got a lot of packages. Probably will las...</td>\n",
       "      <td>1014651</td>\n",
       "    </tr>\n",
       "    <tr>\n",
       "      <th>3</th>\n",
       "      <td>nigahiga</td>\n",
       "      <td>ryan|\"higa\"|\"higatv\"|\"nigahiga\"|\"i dare you\"|\"...</td>\n",
       "      <td>I know it's been a while since we did this sho...</td>\n",
       "      <td>2095828</td>\n",
       "    </tr>\n",
       "    <tr>\n",
       "      <th>4</th>\n",
       "      <td>Ed Sheeran</td>\n",
       "      <td>edsheeran|\"ed sheeran\"|\"acoustic\"|\"live\"|\"cove...</td>\n",
       "      <td>🎧: https://ad.gt/yt-perfect\\n💰: https://atlant...</td>\n",
       "      <td>33523622</td>\n",
       "    </tr>\n",
       "    <tr>\n",
       "      <th>5</th>\n",
       "      <td>DramaAlert</td>\n",
       "      <td>#DramaAlert|\"Drama\"|\"Alert\"|\"DramaAlert\"|\"keem...</td>\n",
       "      <td>► Follow for News! - https://twitter.com/KEEMS...</td>\n",
       "      <td>1309699</td>\n",
       "    </tr>\n",
       "    <tr>\n",
       "      <th>...</th>\n",
       "      <td>...</td>\n",
       "      <td>...</td>\n",
       "      <td>...</td>\n",
       "      <td>...</td>\n",
       "    </tr>\n",
       "    <tr>\n",
       "      <th>41207</th>\n",
       "      <td>Россия 24</td>\n",
       "      <td>поединок|\"михеев\"|\"полный контакт\"|\"вечер с вл...</td>\n",
       "      <td>Вечер с Владимиром Соловьевым от 13.06.2018\\rП...</td>\n",
       "      <td>201847</td>\n",
       "    </tr>\n",
       "    <tr>\n",
       "      <th>41208</th>\n",
       "      <td>Annoying Orange</td>\n",
       "      <td>annoying orange|\"funny\"|\"fruit\"|\"talking\"|\"ani...</td>\n",
       "      <td>🚨 NEW MERCH! http://amzn.to/annoyingorange 🚨➤ ...</td>\n",
       "      <td>80685</td>\n",
       "    </tr>\n",
       "    <tr>\n",
       "      <th>41210</th>\n",
       "      <td>Kingdom Hearts</td>\n",
       "      <td>Kingdom Hearts|\"KH3\"|\"Kingdom Hearts 3\"|\"Froze...</td>\n",
       "      <td>Find out more about Kingdom Hearts 3: https://...</td>\n",
       "      <td>773347</td>\n",
       "    </tr>\n",
       "    <tr>\n",
       "      <th>41211</th>\n",
       "      <td>The Young Turks</td>\n",
       "      <td>180612__TB02SorryExcuse|\"News\"|\"Politics\"|\"The...</td>\n",
       "      <td>Peter Navarro isn’t talking so tough now. Ana ...</td>\n",
       "      <td>115225</td>\n",
       "    </tr>\n",
       "    <tr>\n",
       "      <th>41212</th>\n",
       "      <td>我愛小明星大跟班</td>\n",
       "      <td>吳宗憲|\"吳姍儒\"|\"小明星大跟班\"|\"Sandy\"|\"Jacky wu\"|\"憲哥\"|\"中天...</td>\n",
       "      <td>藝人：李妍瑾、玉兔、班傑、LaLa、小優、少少專家：陳筱屏(律師)、Wendy(心理師)、羅...</td>\n",
       "      <td>107392</td>\n",
       "    </tr>\n",
       "  </tbody>\n",
       "</table>\n",
       "<p>32016 rows × 4 columns</p>\n",
       "</div>"
      ],
      "text/plain": [
       "         channel_title                                               tags   \n",
       "0           EminemVEVO  Eminem|\"Walk\"|\"On\"|\"Water\"|\"Aftermath/Shady/In...  \\\n",
       "1            iDubbbzTV  plush|\"bad unboxing\"|\"unboxing\"|\"fan mail\"|\"id...   \n",
       "3             nigahiga  ryan|\"higa\"|\"higatv\"|\"nigahiga\"|\"i dare you\"|\"...   \n",
       "4           Ed Sheeran  edsheeran|\"ed sheeran\"|\"acoustic\"|\"live\"|\"cove...   \n",
       "5           DramaAlert  #DramaAlert|\"Drama\"|\"Alert\"|\"DramaAlert\"|\"keem...   \n",
       "...                ...                                                ...   \n",
       "41207        Россия 24  поединок|\"михеев\"|\"полный контакт\"|\"вечер с вл...   \n",
       "41208  Annoying Orange  annoying orange|\"funny\"|\"fruit\"|\"talking\"|\"ani...   \n",
       "41210   Kingdom Hearts  Kingdom Hearts|\"KH3\"|\"Kingdom Hearts 3\"|\"Froze...   \n",
       "41211  The Young Turks  180612__TB02SorryExcuse|\"News\"|\"Politics\"|\"The...   \n",
       "41212         我愛小明星大跟班  吳宗憲|\"吳姍儒\"|\"小明星大跟班\"|\"Sandy\"|\"Jacky wu\"|\"憲哥\"|\"中天...   \n",
       "\n",
       "                                             description     views  \n",
       "0      Eminem's new track Walk on Water ft. Beyoncé i...  17158579  \n",
       "1      STill got a lot of packages. Probably will las...   1014651  \n",
       "3      I know it's been a while since we did this sho...   2095828  \n",
       "4      🎧: https://ad.gt/yt-perfect\\n💰: https://atlant...  33523622  \n",
       "5      ► Follow for News! - https://twitter.com/KEEMS...   1309699  \n",
       "...                                                  ...       ...  \n",
       "41207  Вечер с Владимиром Соловьевым от 13.06.2018\\rП...    201847  \n",
       "41208  🚨 NEW MERCH! http://amzn.to/annoyingorange 🚨➤ ...     80685  \n",
       "41210  Find out more about Kingdom Hearts 3: https://...    773347  \n",
       "41211  Peter Navarro isn’t talking so tough now. Ana ...    115225  \n",
       "41212  藝人：李妍瑾、玉兔、班傑、LaLa、小優、少少專家：陳筱屏(律師)、Wendy(心理師)、羅...    107392  \n",
       "\n",
       "[32016 rows x 4 columns]"
      ]
     },
     "execution_count": 159,
     "metadata": {},
     "output_type": "execute_result"
    }
   ],
   "source": [
    "# Image Data\n",
    "df = pd.read_csv(\"../Data/dataset_w_jpg.csv\")\n",
    "df = df.dropna()\n",
    "\n",
    "df = df [[\"channel_title\",\"tags\",\"description\",\"views\"]]\n",
    "\n",
    "df[\"views\"] = df[\"views\"].astype(int)\n",
    "\n",
    "df"
   ]
  },
  {
   "cell_type": "code",
   "execution_count": 160,
   "metadata": {},
   "outputs": [],
   "source": [
    "# Loas features and targets\n",
    "\n",
    "feature_df = df [[\"channel_title\",\"tags\",\"description\"]]  # Text data as numpy list\n",
    "targets = df[\"views\"].to_numpy()  # Target data as numpy list"
   ]
  },
  {
   "attachments": {},
   "cell_type": "markdown",
   "metadata": {},
   "source": [
    "## Preprocessing"
   ]
  },
  {
   "attachments": {},
   "cell_type": "markdown",
   "metadata": {},
   "source": [
    "### Normalize Targets"
   ]
  },
  {
   "cell_type": "code",
   "execution_count": 161,
   "metadata": {},
   "outputs": [
    {
     "name": "stdout",
     "output_type": "stream",
     "text": [
      ">>> Range from original targets (1000;137843120) has been normalized (0.0;1.0)\n"
     ]
    }
   ],
   "source": [
    "# Normalizing the target values with the min-max normalization\n",
    "\n",
    "scaler = MinMaxScaler()\n",
    "normalized_targets = scaler.fit_transform(targets.reshape(-1, 1)).flatten()\n",
    "\n",
    "print(f\">>> Range from original targets ({targets.min()};{targets.max()}) has been normalized ({normalized_targets.min()};{normalized_targets.max()})\")"
   ]
  },
  {
   "attachments": {},
   "cell_type": "markdown",
   "metadata": {},
   "source": [
    "### Apply Stemmer and Remove Stopwords from Text Features"
   ]
  },
  {
   "cell_type": "code",
   "execution_count": 162,
   "metadata": {},
   "outputs": [],
   "source": [
    "# Add content speficic stopwords by select the top N words with the highest TF-IDF scores as potential stopwords\n",
    "\n",
    "def get_content_stopwords(texts):\n",
    "    \n",
    "    vectorizer = TfidfVectorizer() # TfidfVectorizer object from sklearn\n",
    "\n",
    "    tfidf_matrix = vectorizer.fit_transform(texts) \n",
    "\n",
    "    feature_names = vectorizer.get_feature_names_out()\n",
    "\n",
    "    avg_tfidf_scores = tfidf_matrix.mean(axis=0).tolist()[0] # Get average TF-IDF score for each word\n",
    "\n",
    "    word_scores = list(zip(feature_names, avg_tfidf_scores))\n",
    "\n",
    "    word_scores.sort(key=lambda x: x[1], reverse=True) # Sort the word_scores in descending order\n",
    "\n",
    "    N = 250 # Number of stopwords to select\n",
    "    stopwords_content = [word for word, score in word_scores[:N]] # Potential stopwords\n",
    "\n",
    "    print(f\">>> {len(stopwords_content)} content specific stopwords are idintified\")\n",
    "\n",
    "    return stopwords_content"
   ]
  },
  {
   "cell_type": "code",
   "execution_count": 163,
   "metadata": {},
   "outputs": [],
   "source": [
    "# Define stemmer and stopwords\n",
    "\n",
    "def get_stopwords(texts):\n",
    "\n",
    "    # Stopwords\n",
    "    stop_words_nlkt = set(stopwords.words('english'))\n",
    "\n",
    "    # add contect speficic stopwords \n",
    "    original_stopword_len = len(stop_words_nlkt)\n",
    "\n",
    "    stop_words = stop_words_nlkt.copy()\n",
    "\n",
    "    stop_words |= set(get_content_stopwords(texts)) # Add the additional wikipedia specific stopwords\n",
    "\n",
    "    merged_stopword_len = len(stop_words)\n",
    "\n",
    "    print(f\">>> {merged_stopword_len-original_stopword_len} additional stopwords have been added to the nlkt stopwords list\")\n",
    "\n",
    "    return stop_words"
   ]
  },
  {
   "cell_type": "code",
   "execution_count": 164,
   "metadata": {},
   "outputs": [
    {
     "name": "stdout",
     "output_type": "stream",
     "text": [
      "\n",
      "--- Preprocessing channel_title feature ---\n",
      "\n",
      ">>> Numbers and words with only one character are removed\n",
      ">>> 250 content specific stopwords are idintified\n",
      ">>> 243 additional stopwords have been added to the nlkt stopwords list\n",
      ">>> The Stemmer and the Stopword Removal are applied f.e.:\n",
      "\n",
      "VanossGaming\n",
      "vanossgam\n",
      "\n",
      "--- Preprocessing tags feature ---\n",
      "\n",
      ">>> Numbers and words with only one character are removed\n",
      ">>> 250 content specific stopwords are idintified\n",
      ">>> 224 additional stopwords have been added to the nlkt stopwords list\n",
      ">>> The Stemmer and the Stopword Removal are applied f.e.:\n",
      "\n",
      "Funny Moments|\"Montage video games\"|\"gaming\"|\"Vanoss\"|\"VanossGaming\"|\"Gameplay\"|\"Secret\"|\"Puncake\"|\"Parody\"|\"Comedy\"|\"Remix\"|\"Epic\"|\"Trolling\"|\"Xbox One\"|\"MultiplayerPS4\"|\"Funtage\"|\"superhero school\"|\"vanoss superhero school\"|\"superhero\"|\"scool\"|\"school\"|\"super hero\"|\"vanoss gaming school\"|\"doc\"|\"documentary\"\n",
      "moments|\"montag games\"|\"gaming\"|\"vanoss\"|\"vanossgaming\"|\"gameplay\"|\"secret\"|\"puncake\"|\"parody\"|\"comedy\"|\"remix\"|\"epic\"|\"trolling\"|\"xbox one\"|\"multiplayerps4\"|\"funtage\"|\"superhero school\"|\"vanoss superhero school\"|\"superhero\"|\"scool\"|\"school\"|\"sup hero\"|\"vanoss school\"|\"doc\"|\"documentary\"\n",
      "\n",
      "--- Preprocessing description feature ---\n",
      "\n",
      ">>> Numbers and words with only one character are removed\n",
      ">>> 250 content specific stopwords are idintified\n",
      ">>> 176 additional stopwords have been added to the nlkt stopwords list\n",
      ">>> The Stemmer and the Stopword Removal are applied f.e.:\n",
      "\n",
      "Vanoss Merch Shop: https://vanoss.3blackdot.com/\\n\\n\\n\\nCreated by: Evan Fong https://twitter.com/evanfong\\nDirected by: Jack Wagner https://www.instagram.com/versace_tamagotchi\\nWritten by: Jack Wagner, Eric Pumphrey, Evan Fong, Kent Osborne & Andy Haynes\\n\\nPRODUCERS\\nExecutive Producer: Evan Fong\\nExecutive Producer: Gareth Upton\\n\\n3BlackDot\\nExecutive Producer: Angelo Pullen\\nExecutive Producer: Shelby Alan Brown\\nhttps://3blackdot.com/\\n\\nAnthem Films\\nExecutive Producer: DJay Brawner\\nExecutive Producer: Blake Greenbaum\\nGeneral Manager: Nicole Swedlow\\nHead of Production: Amy Silliman \\nCreative Producer: Gabriel Younes\\nhttp://www.anthemfilms.com/\\n\\nCAST\\nDean - Stu James https://twitter.com/stujameslive\\nAustin - Austin Zajur https://www.instagram.com/austinzajur/\\nTanner - Nick Colletti https://twitter.com/nick_colletti\\nKurt - Evan Breen https://twitter.com/evan_breen\\nGina - Isabel Sobrepera https://www.instagram.com/isobrep\\nFellow student - Matthew Haddad\\nRobber - William Bouton\\nPolice Officer - Kevin Whittington\\nGuy 1 - Justin McClain \\nReceptionist - Abby Victor\\nVanoss - Evan Fong / Chris Ryan\\n\\nPRODUCTION\\nProducer: Christopher Pluchar\\nProduction Manager: Michael Burke\\n1st AD: Sam Shapson\\n2nd AD: David Moore\\nPA: Alexandria Kelly\\nPA: David Sperling\\nPA: Lars Nordgaard\\nPA: Cory Riley\\nIntern/PA: Anna Niebert\\n\\nCamera\\nDir of Photography: Wojciech Kielar\\n1st AC: Chuck Schwarzbeck\\n2nd AC/DIT: Tamara Santos\\n2nd Camera Op: Andrew Harris \\n\\nG&E\\nGaffer: Kyle Fallon\\nBB Electric: Mike Sullivan\\nSwing: Jesse Lee\\nKey Grip: Zach Kienitz\\nBB Grip: Sebastian Nuta\\n\\nArt\\nProduction Designer: Justin McClain\\nArt Director: Jacob Salano\\nSet Decorator: Chris Barundia\\nSet Dresser: Joseph Altamuro\\nSet Dresser: Seth Mankoski\\nShopper/Set Dresser: Caiti Shannon\\nArt Driver: Matt Baltzer\\nGraphic Designer: Joshua Barish\\n\\nHair & Make-Up\\nHair & Makeup: Linda Marfisi\\nHair & Makeup Asst: Lian Uritsky\\n\\nWardrobe\\nCostume Designer: Patrick Glendening\\nCostume Assistant: Kim House\\n\\nSound\\nSound: Jake Unterreiner\\n\\nPOST \\nEditor: Alex Jones\\nColor: Ryan McNeal\\nPost Audio: Aaron Bartscht \\nVFX: Tanner Merrill\\nOutro Titles: Grabster\\n\\nCasting Director\\nMichael “Stonewall” Beaudry\\n\\n\\nVanoss Twitter - http://twitter.com/#!/VanossGaming\\nVanoss Facebook - http://www.facebook.com/VanossGaming\\nVanoss Instagram - http://instagram.com/vanossinstagram\\n\\nPlease Ignore or flag spam, negative, or hateful comments.  We're here to have a good time.  Thanks everyone, and enjoy :]\n",
      "vanoss shop: https://vanoss.3blackdot.com/\\n\\n\\n\\ncr by: evan fong https://twitter.com/evanfong\\ndirect by: jack wagner https://www.instagram.com/versace_tamagotchi\\nwritten by: jack wagner, eric pumphrey, evan fong, kent osborn & andi haynes\\n\\nproducers\\nexecut producer: evan fong\\nexecut producer: gareth upton\\n\\n3blackdot\\nexecut producer: angelo pullen\\nexecut producer: shelbi alan brown\\nhttps://3blackdot.com/\\n\\nanthem films\\nexecut producer: djay brawner\\nexecut producer: blake greenbaum\\ngener manager: nicol swedlow\\nhead production: ami silliman \\ncreativ producer: gabriel younes\\nhttp://www.anthemfilms.com/\\n\\ncast\\ndean - stu jame https://twitter.com/stujameslive\\naustin - austin zajur https://www.instagram.com/austinzajur/\\ntann - nick colletti https://twitter.com/nick_colletti\\nkurt - evan breen https://twitter.com/evan_breen\\ngina - isabel sobrepera https://www.instagram.com/isobrep\\nfellow student - matthew haddad\\nrobb - william bouton\\npolic offic - kevin whittington\\nguy 1 - justin mcclain \\nreceptionist - abbi victor\\nvanoss - evan fong / chris ryan\\n\\nproduction\\nproducer: christoph pluchar\\nproduct manager: michael burke\\n1st ad: sam shapson\\n2nd ad: david moore\\npa: alexandria kelly\\npa: david sperling\\npa: lar nordgaard\\npa: cori riley\\nintern/pa: anna niebert\\n\\ncamera\\ndir photography: wojciech kielar\\n1st ac: chuck schwarzbeck\\n2nd ac/dit: tamara santos\\n2nd camera op: andrew harri \\n\\ng&e\\ngaffer: kyle fallon\\nbb electric: mike sullivan\\nswing: jess lee\\nkey grip: zach kienitz\\nbb grip: sebastian nuta\\n\\nart\\nproduct designer: justin mcclain\\nart director: jacob salano\\nset decorator: chris barundia\\nset dresser: joseph altamuro\\nset dresser: seth mankoski\\nshopper/set dresser: caiti shannon\\nart driver: matt baltzer\\ngraph designer: joshua barish\\n\\nhair & make-up\\nhair & makeup: linda marfisi\\nhair & makeup asst: lian uritsky\\n\\nwardrobe\\ncostum designer: patrick glendening\\ncostum assistant: kim house\\n\\nsound\\nsound: jake unterreiner\\n\\npost \\neditor: alex jones\\ncolor: ryan mcneal\\npost audio: aaron bartscht \\nvfx: tanner merrill\\noutro titles: grabster\\n\\ncast director\\nmichael “stonewall” beaudry\\n\\n\\nvanoss - http://twitter.com/#!/vanossgaming\\nvanoss - http://www.facebook.com/vanossgaming\\nvanoss - http://instagram.com/vanossinstagram\\n\\npleas ignor flag spam, negative, hate comments. we'r time. everyone, enjoy :]\n"
     ]
    }
   ],
   "source": [
    "# Get Stemmer\n",
    "stemmer = SnowballStemmer('english')\n",
    "feature_df_preprocessed = pd.DataFrame()\n",
    "\n",
    "\n",
    "for feature in feature_df:\n",
    "\n",
    "    print(f\"\\n--- Preprocessing {feature} feature ---\\n\")\n",
    "\n",
    "    texts = df[feature].to_numpy()\n",
    "\n",
    "    # Remove numbers and singel characters\n",
    "\n",
    "    texts_preprocessed = [' '.join([word for word in text.split() if not word.isnumeric()]) for text in texts] # Remove numbers\n",
    "    texts_preprocessed = [' '.join([word for word in text.split() if not len(word) > 1]) for text in texts] # Remove words with one character\n",
    "\n",
    "    print(\">>> Numbers and words with only one character are removed\")\n",
    "\n",
    "    # Get Stopwords\n",
    "    stop_words = get_stopwords(texts)\n",
    "\n",
    "    # Remove stop words from the text data and apply stemmer\n",
    "\n",
    "    texts_preprocessed = [' '.join([stemmer.stem(word) for word in text.split() if word.lower() not in stop_words]) for text in texts]\n",
    "\n",
    "    feature_df_preprocessed[feature] = texts_preprocessed\n",
    "\n",
    "    print(\">>> The Stemmer and the Stopword Removal are applied f.e.:\\n\")\n",
    "\n",
    "    print (texts[5]) # show example\n",
    "    print (texts_preprocessed[5])"
   ]
  },
  {
   "attachments": {},
   "cell_type": "markdown",
   "metadata": {},
   "source": [
    "### Tokenize and Split the Text Data"
   ]
  },
  {
   "cell_type": "code",
   "execution_count": 183,
   "metadata": {},
   "outputs": [],
   "source": [
    "# Tokenize the text data\n",
    "def tokenize (texts):\n",
    "    \n",
    "    tokenizer = Tokenizer()\n",
    "    tokenizer.fit_on_texts(texts)\n",
    "    sequences = tokenizer.texts_to_sequences(texts)\n",
    "\n",
    "    # Vocabulary size\n",
    "    vocab_size = len(tokenizer.word_index) + 1\n",
    "\n",
    "    # Pad sequences to a fixed length\n",
    "    max_sequence_length = 100\n",
    "    padded_sequences = pad_sequences(sequences, maxlen=max_sequence_length)\n",
    "\n",
    "    return padded_sequences, vocab_size"
   ]
  },
  {
   "cell_type": "code",
   "execution_count": 184,
   "metadata": {},
   "outputs": [],
   "source": [
    "# Split the data into training and validation sets\n",
    "def train_val_test_split(padded_sequences):\n",
    "    \n",
    "    train_texts, val_texts = train_test_split( padded_sequences, test_size=0.2, random_state=42) # train-validation split with validation size of 20%\n",
    "    train_texts, test_texts = train_test_split( train_texts, test_size=0.125, random_state=42) # train-test split with test size of 10%\n",
    "\n",
    "    print(f\">>> Text shape train: {train_texts.shape} val: {val_texts.shape} test: {test_texts.shape}\")\n",
    "\n",
    "    return train_texts, val_texts, test_texts"
   ]
  },
  {
   "cell_type": "code",
   "execution_count": 185,
   "metadata": {},
   "outputs": [
    {
     "name": "stdout",
     "output_type": "stream",
     "text": [
      "\n",
      "--- Splitting Target Data ---\n",
      "\n",
      ">>> Target shape train: (22410,) val: (6404,) test: (3202,)\n",
      "\n",
      "--- Tokenizing and Splitting channel_title feature ---\n",
      "\n",
      ">>> Text shape train: (22410, 100) val: (6404, 100) test: (3202, 100)\n",
      ">>> The Feature Splits are saved under the following names:\n",
      "train_texts_channel_title\n",
      "val_texts_channel_title\n",
      "test_texts_channel_title\n",
      "\n",
      "--- Tokenizing and Splitting tags feature ---\n",
      "\n",
      ">>> Text shape train: (22410, 100) val: (6404, 100) test: (3202, 100)\n",
      ">>> The Feature Splits are saved under the following names:\n",
      "train_texts_tags\n",
      "val_texts_tags\n",
      "test_texts_tags\n",
      "\n",
      "--- Tokenizing and Splitting description feature ---\n",
      "\n",
      ">>> Text shape train: (22410, 100) val: (6404, 100) test: (3202, 100)\n",
      ">>> The Feature Splits are saved under the following names:\n",
      "train_texts_description\n",
      "val_texts_description\n",
      "test_texts_description\n"
     ]
    }
   ],
   "source": [
    "\n",
    "# Split target data\n",
    "\n",
    "print(f\"\\n--- Splitting Target Data ---\\n\")\n",
    "\n",
    "train_targets, val_targets = train_test_split( normalized_targets, test_size=0.2, random_state=42) # train-validation split with validation size of 20%\n",
    "train_targets, test_targets = train_test_split( train_targets, test_size=0.125, random_state=42) # train-test split with test size of 10%\n",
    "print(f\">>> Target shape train: {train_targets.shape} val: {val_targets.shape} test: {test_targets.shape}\")\n",
    "\n",
    "\n",
    "# Split feature data featurewise\n",
    "\n",
    "split_names = [\"train_texts\", \"val_texts\", \"test_texts\"]\n",
    "vocab_list = []\n",
    "\n",
    "for feature in feature_df_preprocessed:\n",
    "    \n",
    "    print(f\"\\n--- Tokenizing and Splitting {feature} feature ---\\n\")\n",
    "\n",
    "    texts = df[feature].to_numpy()\n",
    "\n",
    "    return_values = tokenize(texts)\n",
    "\n",
    "    padded_sequences = return_values[0]\n",
    "\n",
    "    vocab_list.append(return_values[1])\n",
    "\n",
    "    feature_df_preprocessed[feature] = padded_sequences\n",
    "\n",
    "    split_list = train_val_test_split(padded_sequences)\n",
    "\n",
    "    iterator = 0\n",
    "\n",
    "    print(f\">>> The Feature Splits are saved under the following names:\")\n",
    "\n",
    "    for split in split_list:\n",
    "        variable_name = split_names[iterator]+\"_\"+feature\n",
    "        print(variable_name)\n",
    "        exec(variable_name + \" = split\")\n",
    "        iterator+=1"
   ]
  },
  {
   "attachments": {},
   "cell_type": "markdown",
   "metadata": {},
   "source": [
    "# Model Training"
   ]
  },
  {
   "cell_type": "code",
   "execution_count": null,
   "metadata": {},
   "outputs": [],
   "source": []
  },
  {
   "cell_type": "code",
   "execution_count": 196,
   "metadata": {},
   "outputs": [
    {
     "name": "stdout",
     "output_type": "stream",
     "text": [
      "Model: \"model_6\"\n",
      "__________________________________________________________________________________________________\n",
      " Layer (type)                   Output Shape         Param #     Connected to                     \n",
      "==================================================================================================\n",
      " input_34 (InputLayer)          [(None, 100)]        0           []                               \n",
      "                                                                                                  \n",
      " input_35 (InputLayer)          [(None, 100)]        0           []                               \n",
      "                                                                                                  \n",
      " input_36 (InputLayer)          [(None, 100)]        0           []                               \n",
      "                                                                                                  \n",
      " embedding_20 (Embedding)       (None, 100, 100)     22379500    ['input_34[0][0]',               \n",
      "                                                                  'input_35[0][0]',               \n",
      "                                                                  'input_36[0][0]']               \n",
      "                                                                                                  \n",
      " lstm_14 (LSTM)                 (None, 64)           42240       ['embedding_20[0][0]',           \n",
      "                                                                  'embedding_20[1][0]',           \n",
      "                                                                  'embedding_20[2][0]']           \n",
      "                                                                                                  \n",
      " concatenate_6 (Concatenate)    (None, 192)          0           ['lstm_14[0][0]',                \n",
      "                                                                  'lstm_14[1][0]',                \n",
      "                                                                  'lstm_14[2][0]']                \n",
      "                                                                                                  \n",
      " dense_14 (Dense)               (None, 1)            193         ['concatenate_6[0][0]']          \n",
      "                                                                                                  \n",
      "==================================================================================================\n",
      "Total params: 22,421,933\n",
      "Trainable params: 22,421,933\n",
      "Non-trainable params: 0\n",
      "__________________________________________________________________________________________________\n"
     ]
    }
   ],
   "source": [
    "from tensorflow.keras.layers import Input, Embedding, LSTM, Dense\n",
    "from tensorflow.keras.models import Model\n",
    "from tensorflow.keras.preprocessing.text import Tokenizer\n",
    "from tensorflow.keras.preprocessing.sequence import pad_sequences\n",
    "from tensorflow.keras.layers import concatenate\n",
    "\n",
    "# Define the LSTM model with three text inputs\n",
    "input1 = Input(shape=(max_sequence_length,))\n",
    "input2 = Input(shape=(max_sequence_length,))\n",
    "input3 = Input(shape=(max_sequence_length,))\n",
    "embedding = Embedding(sum(vocab_list), 100)\n",
    "lstm = LSTM(64)\n",
    "dense = Dense(1, activation='linear')\n",
    "\n",
    "embedded1 = embedding(input1)\n",
    "embedded2 = embedding(input2)\n",
    "embedded3 = embedding(input3)\n",
    "lstm1 = lstm(embedded1)\n",
    "lstm2 = lstm(embedded2)\n",
    "lstm3 = lstm(embedded3)\n",
    "concatenated = concatenate([lstm1, lstm2, lstm3])\n",
    "output = dense(concatenated)\n",
    "\n",
    "model = Model(inputs=[input1, input2, input3], outputs=output)\n",
    "model.compile(loss='mean_squared_error', optimizer='adam')\n",
    "\n",
    "model.summary()"
   ]
  },
  {
   "cell_type": "code",
   "execution_count": 192,
   "metadata": {},
   "outputs": [
    {
     "data": {
      "image/png": "[encoded data removed]",
      "text/plain": [
       "<IPython.core.display.Image object>"
      ]
     },
     "execution_count": 192,
     "metadata": {},
     "output_type": "execute_result"
    }
   ],
   "source": [
    "from tensorflow.keras.utils import plot_model\n",
    "\n",
    "plot_model(model, show_shapes=True)"
   ]
  },
  {
   "cell_type": "code",
   "execution_count": 197,
   "metadata": {},
   "outputs": [
    {
     "name": "stdout",
     "output_type": "stream",
     "text": [
      "Epoch 1/10\n",
      "602/701 [========================>.....] - ETA: 13s - loss: 5.8102e-04"
     ]
    },
    {
     "ename": "KeyboardInterrupt",
     "evalue": "",
     "output_type": "error",
     "traceback": [
      "\u001b[0;31m---------------------------------------------------------------------------\u001b[0m",
      "\u001b[0;31mKeyboardInterrupt\u001b[0m                         Traceback (most recent call last)",
      "Cell \u001b[0;32mIn[197], line 4\u001b[0m\n\u001b[1;32m      2\u001b[0m batch_size \u001b[39m=\u001b[39m \u001b[39m32\u001b[39m\n\u001b[1;32m      3\u001b[0m epochs \u001b[39m=\u001b[39m \u001b[39m10\u001b[39m\n\u001b[0;32m----> 4\u001b[0m history_three_features \u001b[39m=\u001b[39m model\u001b[39m.\u001b[39;49mfit([train_texts_channel_title, train_texts_tags, train_texts_description], train_targets, batch_size\u001b[39m=\u001b[39;49mbatch_size, epochs\u001b[39m=\u001b[39;49mepochs, validation_data\u001b[39m=\u001b[39;49m([val_texts_channel_title, val_texts_tags, val_texts_description], val_targets))\n\u001b[1;32m      6\u001b[0m \u001b[39m'''# Make predictions\u001b[39;00m\n\u001b[1;32m      7\u001b[0m \u001b[39mpredictions = model.predict([test_texts_channel_title,test_texts_tags, test_texts_description])\u001b[39;00m\n\u001b[1;32m      8\u001b[0m \n\u001b[0;32m   (...)\u001b[0m\n\u001b[1;32m     13\u001b[0m \u001b[39mfor i, prediction in enumerate(original_predictions):\u001b[39;00m\n\u001b[1;32m     14\u001b[0m \u001b[39m    print(f\"Sample {i+1}: Predicted Views = {prediction}\")'''\u001b[39;00m\n\u001b[1;32m     16\u001b[0m     \u001b[39m# https://stackoverflow.com/questions/65514944/tensorflow-embeddings-invalidargumenterror-indices18-16-11905-is-not-in-0\u001b[39;00m\n",
      "File \u001b[0;32m/usr/local/Caskroom/miniconda/base/envs/yputube_2/lib/python3.10/site-packages/keras/utils/traceback_utils.py:65\u001b[0m, in \u001b[0;36mfilter_traceback.<locals>.error_handler\u001b[0;34m(*args, **kwargs)\u001b[0m\n\u001b[1;32m     63\u001b[0m filtered_tb \u001b[39m=\u001b[39m \u001b[39mNone\u001b[39;00m\n\u001b[1;32m     64\u001b[0m \u001b[39mtry\u001b[39;00m:\n\u001b[0;32m---> 65\u001b[0m     \u001b[39mreturn\u001b[39;00m fn(\u001b[39m*\u001b[39;49margs, \u001b[39m*\u001b[39;49m\u001b[39m*\u001b[39;49mkwargs)\n\u001b[1;32m     66\u001b[0m \u001b[39mexcept\u001b[39;00m \u001b[39mException\u001b[39;00m \u001b[39mas\u001b[39;00m e:\n\u001b[1;32m     67\u001b[0m     filtered_tb \u001b[39m=\u001b[39m _process_traceback_frames(e\u001b[39m.\u001b[39m__traceback__)\n",
      "File \u001b[0;32m/usr/local/Caskroom/miniconda/base/envs/yputube_2/lib/python3.10/site-packages/keras/engine/training.py:1650\u001b[0m, in \u001b[0;36mModel.fit\u001b[0;34m(self, x, y, batch_size, epochs, verbose, callbacks, validation_split, validation_data, shuffle, class_weight, sample_weight, initial_epoch, steps_per_epoch, validation_steps, validation_batch_size, validation_freq, max_queue_size, workers, use_multiprocessing)\u001b[0m\n\u001b[1;32m   1642\u001b[0m \u001b[39mwith\u001b[39;00m tf\u001b[39m.\u001b[39mprofiler\u001b[39m.\u001b[39mexperimental\u001b[39m.\u001b[39mTrace(\n\u001b[1;32m   1643\u001b[0m     \u001b[39m\"\u001b[39m\u001b[39mtrain\u001b[39m\u001b[39m\"\u001b[39m,\n\u001b[1;32m   1644\u001b[0m     epoch_num\u001b[39m=\u001b[39mepoch,\n\u001b[0;32m   (...)\u001b[0m\n\u001b[1;32m   1647\u001b[0m     _r\u001b[39m=\u001b[39m\u001b[39m1\u001b[39m,\n\u001b[1;32m   1648\u001b[0m ):\n\u001b[1;32m   1649\u001b[0m     callbacks\u001b[39m.\u001b[39mon_train_batch_begin(step)\n\u001b[0;32m-> 1650\u001b[0m     tmp_logs \u001b[39m=\u001b[39m \u001b[39mself\u001b[39;49m\u001b[39m.\u001b[39;49mtrain_function(iterator)\n\u001b[1;32m   1651\u001b[0m     \u001b[39mif\u001b[39;00m data_handler\u001b[39m.\u001b[39mshould_sync:\n\u001b[1;32m   1652\u001b[0m         context\u001b[39m.\u001b[39masync_wait()\n",
      "File \u001b[0;32m/usr/local/Caskroom/miniconda/base/envs/yputube_2/lib/python3.10/site-packages/tensorflow/python/util/traceback_utils.py:150\u001b[0m, in \u001b[0;36mfilter_traceback.<locals>.error_handler\u001b[0;34m(*args, **kwargs)\u001b[0m\n\u001b[1;32m    148\u001b[0m filtered_tb \u001b[39m=\u001b[39m \u001b[39mNone\u001b[39;00m\n\u001b[1;32m    149\u001b[0m \u001b[39mtry\u001b[39;00m:\n\u001b[0;32m--> 150\u001b[0m   \u001b[39mreturn\u001b[39;00m fn(\u001b[39m*\u001b[39;49margs, \u001b[39m*\u001b[39;49m\u001b[39m*\u001b[39;49mkwargs)\n\u001b[1;32m    151\u001b[0m \u001b[39mexcept\u001b[39;00m \u001b[39mException\u001b[39;00m \u001b[39mas\u001b[39;00m e:\n\u001b[1;32m    152\u001b[0m   filtered_tb \u001b[39m=\u001b[39m _process_traceback_frames(e\u001b[39m.\u001b[39m__traceback__)\n",
      "File \u001b[0;32m/usr/local/Caskroom/miniconda/base/envs/yputube_2/lib/python3.10/site-packages/tensorflow/python/eager/polymorphic_function/polymorphic_function.py:880\u001b[0m, in \u001b[0;36mFunction.__call__\u001b[0;34m(self, *args, **kwds)\u001b[0m\n\u001b[1;32m    877\u001b[0m compiler \u001b[39m=\u001b[39m \u001b[39m\"\u001b[39m\u001b[39mxla\u001b[39m\u001b[39m\"\u001b[39m \u001b[39mif\u001b[39;00m \u001b[39mself\u001b[39m\u001b[39m.\u001b[39m_jit_compile \u001b[39melse\u001b[39;00m \u001b[39m\"\u001b[39m\u001b[39mnonXla\u001b[39m\u001b[39m\"\u001b[39m\n\u001b[1;32m    879\u001b[0m \u001b[39mwith\u001b[39;00m OptionalXlaContext(\u001b[39mself\u001b[39m\u001b[39m.\u001b[39m_jit_compile):\n\u001b[0;32m--> 880\u001b[0m   result \u001b[39m=\u001b[39m \u001b[39mself\u001b[39;49m\u001b[39m.\u001b[39;49m_call(\u001b[39m*\u001b[39;49margs, \u001b[39m*\u001b[39;49m\u001b[39m*\u001b[39;49mkwds)\n\u001b[1;32m    882\u001b[0m new_tracing_count \u001b[39m=\u001b[39m \u001b[39mself\u001b[39m\u001b[39m.\u001b[39mexperimental_get_tracing_count()\n\u001b[1;32m    883\u001b[0m without_tracing \u001b[39m=\u001b[39m (tracing_count \u001b[39m==\u001b[39m new_tracing_count)\n",
      "File \u001b[0;32m/usr/local/Caskroom/miniconda/base/envs/yputube_2/lib/python3.10/site-packages/tensorflow/python/eager/polymorphic_function/polymorphic_function.py:912\u001b[0m, in \u001b[0;36mFunction._call\u001b[0;34m(self, *args, **kwds)\u001b[0m\n\u001b[1;32m    909\u001b[0m   \u001b[39mself\u001b[39m\u001b[39m.\u001b[39m_lock\u001b[39m.\u001b[39mrelease()\n\u001b[1;32m    910\u001b[0m   \u001b[39m# In this case we have created variables on the first call, so we run the\u001b[39;00m\n\u001b[1;32m    911\u001b[0m   \u001b[39m# defunned version which is guaranteed to never create variables.\u001b[39;00m\n\u001b[0;32m--> 912\u001b[0m   \u001b[39mreturn\u001b[39;00m \u001b[39mself\u001b[39;49m\u001b[39m.\u001b[39;49m_no_variable_creation_fn(\u001b[39m*\u001b[39;49margs, \u001b[39m*\u001b[39;49m\u001b[39m*\u001b[39;49mkwds)  \u001b[39m# pylint: disable=not-callable\u001b[39;00m\n\u001b[1;32m    913\u001b[0m \u001b[39melif\u001b[39;00m \u001b[39mself\u001b[39m\u001b[39m.\u001b[39m_variable_creation_fn \u001b[39mis\u001b[39;00m \u001b[39mnot\u001b[39;00m \u001b[39mNone\u001b[39;00m:\n\u001b[1;32m    914\u001b[0m   \u001b[39m# Release the lock early so that multiple threads can perform the call\u001b[39;00m\n\u001b[1;32m    915\u001b[0m   \u001b[39m# in parallel.\u001b[39;00m\n\u001b[1;32m    916\u001b[0m   \u001b[39mself\u001b[39m\u001b[39m.\u001b[39m_lock\u001b[39m.\u001b[39mrelease()\n",
      "File \u001b[0;32m/usr/local/Caskroom/miniconda/base/envs/yputube_2/lib/python3.10/site-packages/tensorflow/python/eager/polymorphic_function/tracing_compiler.py:134\u001b[0m, in \u001b[0;36mTracingCompiler.__call__\u001b[0;34m(self, *args, **kwargs)\u001b[0m\n\u001b[1;32m    131\u001b[0m \u001b[39mwith\u001b[39;00m \u001b[39mself\u001b[39m\u001b[39m.\u001b[39m_lock:\n\u001b[1;32m    132\u001b[0m   (concrete_function,\n\u001b[1;32m    133\u001b[0m    filtered_flat_args) \u001b[39m=\u001b[39m \u001b[39mself\u001b[39m\u001b[39m.\u001b[39m_maybe_define_function(args, kwargs)\n\u001b[0;32m--> 134\u001b[0m \u001b[39mreturn\u001b[39;00m concrete_function\u001b[39m.\u001b[39;49m_call_flat(\n\u001b[1;32m    135\u001b[0m     filtered_flat_args, captured_inputs\u001b[39m=\u001b[39;49mconcrete_function\u001b[39m.\u001b[39;49mcaptured_inputs)\n",
      "File \u001b[0;32m/usr/local/Caskroom/miniconda/base/envs/yputube_2/lib/python3.10/site-packages/tensorflow/python/eager/polymorphic_function/monomorphic_function.py:1745\u001b[0m, in \u001b[0;36mConcreteFunction._call_flat\u001b[0;34m(self, args, captured_inputs, cancellation_manager)\u001b[0m\n\u001b[1;32m   1741\u001b[0m possible_gradient_type \u001b[39m=\u001b[39m gradients_util\u001b[39m.\u001b[39mPossibleTapeGradientTypes(args)\n\u001b[1;32m   1742\u001b[0m \u001b[39mif\u001b[39;00m (possible_gradient_type \u001b[39m==\u001b[39m gradients_util\u001b[39m.\u001b[39mPOSSIBLE_GRADIENT_TYPES_NONE\n\u001b[1;32m   1743\u001b[0m     \u001b[39mand\u001b[39;00m executing_eagerly):\n\u001b[1;32m   1744\u001b[0m   \u001b[39m# No tape is watching; skip to running the function.\u001b[39;00m\n\u001b[0;32m-> 1745\u001b[0m   \u001b[39mreturn\u001b[39;00m \u001b[39mself\u001b[39m\u001b[39m.\u001b[39m_build_call_outputs(\u001b[39mself\u001b[39;49m\u001b[39m.\u001b[39;49m_inference_function\u001b[39m.\u001b[39;49mcall(\n\u001b[1;32m   1746\u001b[0m       ctx, args, cancellation_manager\u001b[39m=\u001b[39;49mcancellation_manager))\n\u001b[1;32m   1747\u001b[0m forward_backward \u001b[39m=\u001b[39m \u001b[39mself\u001b[39m\u001b[39m.\u001b[39m_select_forward_and_backward_functions(\n\u001b[1;32m   1748\u001b[0m     args,\n\u001b[1;32m   1749\u001b[0m     possible_gradient_type,\n\u001b[1;32m   1750\u001b[0m     executing_eagerly)\n\u001b[1;32m   1751\u001b[0m forward_function, args_with_tangents \u001b[39m=\u001b[39m forward_backward\u001b[39m.\u001b[39mforward()\n",
      "File \u001b[0;32m/usr/local/Caskroom/miniconda/base/envs/yputube_2/lib/python3.10/site-packages/tensorflow/python/eager/polymorphic_function/monomorphic_function.py:378\u001b[0m, in \u001b[0;36m_EagerDefinedFunction.call\u001b[0;34m(self, ctx, args, cancellation_manager)\u001b[0m\n\u001b[1;32m    376\u001b[0m \u001b[39mwith\u001b[39;00m _InterpolateFunctionError(\u001b[39mself\u001b[39m):\n\u001b[1;32m    377\u001b[0m   \u001b[39mif\u001b[39;00m cancellation_manager \u001b[39mis\u001b[39;00m \u001b[39mNone\u001b[39;00m:\n\u001b[0;32m--> 378\u001b[0m     outputs \u001b[39m=\u001b[39m execute\u001b[39m.\u001b[39;49mexecute(\n\u001b[1;32m    379\u001b[0m         \u001b[39mstr\u001b[39;49m(\u001b[39mself\u001b[39;49m\u001b[39m.\u001b[39;49msignature\u001b[39m.\u001b[39;49mname),\n\u001b[1;32m    380\u001b[0m         num_outputs\u001b[39m=\u001b[39;49m\u001b[39mself\u001b[39;49m\u001b[39m.\u001b[39;49m_num_outputs,\n\u001b[1;32m    381\u001b[0m         inputs\u001b[39m=\u001b[39;49margs,\n\u001b[1;32m    382\u001b[0m         attrs\u001b[39m=\u001b[39;49mattrs,\n\u001b[1;32m    383\u001b[0m         ctx\u001b[39m=\u001b[39;49mctx)\n\u001b[1;32m    384\u001b[0m   \u001b[39melse\u001b[39;00m:\n\u001b[1;32m    385\u001b[0m     outputs \u001b[39m=\u001b[39m execute\u001b[39m.\u001b[39mexecute_with_cancellation(\n\u001b[1;32m    386\u001b[0m         \u001b[39mstr\u001b[39m(\u001b[39mself\u001b[39m\u001b[39m.\u001b[39msignature\u001b[39m.\u001b[39mname),\n\u001b[1;32m    387\u001b[0m         num_outputs\u001b[39m=\u001b[39m\u001b[39mself\u001b[39m\u001b[39m.\u001b[39m_num_outputs,\n\u001b[0;32m   (...)\u001b[0m\n\u001b[1;32m    390\u001b[0m         ctx\u001b[39m=\u001b[39mctx,\n\u001b[1;32m    391\u001b[0m         cancellation_manager\u001b[39m=\u001b[39mcancellation_manager)\n",
      "File \u001b[0;32m/usr/local/Caskroom/miniconda/base/envs/yputube_2/lib/python3.10/site-packages/tensorflow/python/eager/execute.py:52\u001b[0m, in \u001b[0;36mquick_execute\u001b[0;34m(op_name, num_outputs, inputs, attrs, ctx, name)\u001b[0m\n\u001b[1;32m     50\u001b[0m \u001b[39mtry\u001b[39;00m:\n\u001b[1;32m     51\u001b[0m   ctx\u001b[39m.\u001b[39mensure_initialized()\n\u001b[0;32m---> 52\u001b[0m   tensors \u001b[39m=\u001b[39m pywrap_tfe\u001b[39m.\u001b[39;49mTFE_Py_Execute(ctx\u001b[39m.\u001b[39;49m_handle, device_name, op_name,\n\u001b[1;32m     53\u001b[0m                                       inputs, attrs, num_outputs)\n\u001b[1;32m     54\u001b[0m \u001b[39mexcept\u001b[39;00m core\u001b[39m.\u001b[39m_NotOkStatusException \u001b[39mas\u001b[39;00m e:\n\u001b[1;32m     55\u001b[0m   \u001b[39mif\u001b[39;00m name \u001b[39mis\u001b[39;00m \u001b[39mnot\u001b[39;00m \u001b[39mNone\u001b[39;00m:\n",
      "\u001b[0;31mKeyboardInterrupt\u001b[0m: "
     ]
    }
   ],
   "source": [
    "# Train the model\n",
    "batch_size = 32\n",
    "epochs = 10\n",
    "history_three_features = model.fit([train_texts_channel_title, train_texts_tags, train_texts_description], train_targets, batch_size=batch_size, epochs=epochs, validation_data=([val_texts_channel_title, val_texts_tags, val_texts_description], val_targets))\n",
    "\n",
    "'''# Make predictions\n",
    "predictions = model.predict([test_texts_channel_title,test_texts_tags, test_texts_description])\n",
    "\n",
    "# Convert normalized predictions back to original scale\n",
    "original_predictions = scaler.inverse_transform(predictions.reshape(-1, 1)).flatten()\n",
    "\n",
    "# Print the predictions\n",
    "for i, prediction in enumerate(original_predictions):\n",
    "    print(f\"Sample {i+1}: Predicted Views = {prediction}\")'''\n",
    "\n",
    "    # https://stackoverflow.com/questions/65514944/tensorflow-embeddings-invalidargumenterror-indices18-16-11905-is-not-in-0"
   ]
  },
  {
   "cell_type": "code",
   "execution_count": null,
   "metadata": {},
   "outputs": [],
   "source": []
  },
  {
   "cell_type": "code",
   "execution_count": null,
   "metadata": {},
   "outputs": [],
   "source": [
    "# Define the LSTM model\n",
    "model = Sequential()\n",
    "model.add(Embedding(vocab_size, 100, input_length=max_sequence_length))\n",
    "model.add(LSTM(64))\n",
    "model.add(Dense(1, activation='linear'))\n",
    "model.compile(loss='mean_squared_error', optimizer='adam')"
   ]
  },
  {
   "cell_type": "code",
   "execution_count": null,
   "metadata": {},
   "outputs": [
    {
     "name": "stdout",
     "output_type": "stream",
     "text": [
      "Epoch 1/10\n",
      "701/701 [==============================] - 42s 58ms/step - loss: 5.7358e-04 - val_loss: 6.2133e-04\n",
      "Epoch 2/10\n",
      "701/701 [==============================] - 37s 52ms/step - loss: 4.2834e-04 - val_loss: 5.0082e-04\n",
      "Epoch 3/10\n",
      "701/701 [==============================] - 38s 55ms/step - loss: 3.2502e-04 - val_loss: 3.4616e-04\n",
      "Epoch 4/10\n",
      "701/701 [==============================] - 40s 57ms/step - loss: 2.4866e-04 - val_loss: 2.8923e-04\n",
      "Epoch 5/10\n",
      "701/701 [==============================] - 41s 58ms/step - loss: 2.1050e-04 - val_loss: 2.8746e-04\n",
      "Epoch 6/10\n",
      "701/701 [==============================] - 40s 58ms/step - loss: 2.0737e-04 - val_loss: 3.0628e-04\n",
      "Epoch 7/10\n",
      "701/701 [==============================] - 40s 58ms/step - loss: 2.1138e-04 - val_loss: 2.8668e-04\n",
      "Epoch 8/10\n",
      "701/701 [==============================] - 40s 58ms/step - loss: 1.8486e-04 - val_loss: 2.5614e-04\n",
      "Epoch 9/10\n",
      "701/701 [==============================] - 37s 52ms/step - loss: 1.8657e-04 - val_loss: 3.1524e-04\n",
      "Epoch 10/10\n",
      "701/701 [==============================] - 37s 53ms/step - loss: 1.7802e-04 - val_loss: 2.6193e-04\n"
     ]
    }
   ],
   "source": [
    "# Train the model\n",
    "batch_size = 32\n",
    "epochs = 10\n",
    "history = model.fit(train_texts, train_targets, batch_size=batch_size, epochs=epochs, validation_data=(val_texts, val_targets))"
   ]
  },
  {
   "attachments": {},
   "cell_type": "markdown",
   "metadata": {},
   "source": [
    "# Model Evaluation"
   ]
  },
  {
   "attachments": {},
   "cell_type": "markdown",
   "metadata": {},
   "source": [
    "## Evaluatie Loss"
   ]
  },
  {
   "cell_type": "code",
   "execution_count": null,
   "metadata": {},
   "outputs": [
    {
     "name": "stdout",
     "output_type": "stream",
     "text": [
      "101/101 [==============================] - 1s 12ms/step - loss: 2.2289e-04\n"
     ]
    }
   ],
   "source": [
    "# Evaluate the model\n",
    "\n",
    "test_loss = model.evaluate(test_texts, test_targets)\n",
    "\n",
    "test_loss "
   ]
  },
  {
   "cell_type": "code",
   "execution_count": null,
   "metadata": {},
   "outputs": [
    {
     "data": {
      "image/png": "[encoded data removed]",
      "text/plain": [
       "<Figure size 640x480 with 1 Axes>"
      ]
     },
     "metadata": {},
     "output_type": "display_data"
    }
   ],
   "source": [
    "# Plot training and validation loss\n",
    "\n",
    "# Plot the loss values\n",
    "plt.plot(history.history['loss'], label='Training Loss')\n",
    "plt.plot(history.history['val_loss'], label='Validation Loss')\n",
    "plt.xlabel('Epochs')\n",
    "plt.ylabel('Loss')\n",
    "plt.legend()\n",
    "plt.show()"
   ]
  },
  {
   "attachments": {},
   "cell_type": "markdown",
   "metadata": {},
   "source": [
    "## Prediction"
   ]
  },
  {
   "cell_type": "code",
   "execution_count": null,
   "metadata": {},
   "outputs": [
    {
     "name": "stdout",
     "output_type": "stream",
     "text": [
      "101/101 [==============================] - 1s 12ms/step\n",
      "Mean Squared Error (MSE): 4234992105661.891\n",
      "Root Mean Squared Error (RMSE): 2057909.6446787675\n"
     ]
    }
   ],
   "source": [
    "# Make predictions\n",
    "pred = model.predict(test_texts)\n",
    "\n",
    "# Convert normalized predictions back to original scale\n",
    "original_pred = scaler.inverse_transform(pred.reshape(-1, 1)).flatten()\n",
    "original_targets = scaler.inverse_transform(test_targets.reshape(-1, 1)).flatten()\n",
    "\n",
    "# Evaluation metrics\n",
    "mse = mean_squared_error(original_targets, original_pred)\n",
    "rmse = np.sqrt(mse)\n",
    "print(\"Mean Squared Error (MSE):\", mse)\n",
    "print(\"Root Mean Squared Error (RMSE):\", rmse)"
   ]
  },
  {
   "cell_type": "code",
   "execution_count": null,
   "metadata": {},
   "outputs": [
    {
     "data": {
      "image/png": "[encoded data removed]",
      "text/plain": [
       "<Figure size 640x480 with 1 Axes>"
      ]
     },
     "metadata": {},
     "output_type": "display_data"
    }
   ],
   "source": [
    "# Plotting\n",
    "plt.plot(original_targets, label='Targets')\n",
    "plt.plot(original_pred, label='Prediction')\n",
    "\n",
    "# Add labels and title\n",
    "plt.xlabel('Youtube Videos')\n",
    "plt.ylabel('Views')\n",
    "plt.title('Predicted Views')\n",
    "\n",
    "# Add legend\n",
    "plt.legend()\n",
    "\n",
    "# Show the plot\n",
    "plt.show()"
   ]
  },
  {
   "cell_type": "code",
   "execution_count": null,
   "metadata": {},
   "outputs": [
    {
     "name": "stdout",
     "output_type": "stream",
     "text": [
      "                                                combined     views\n",
      "0      EminemVEVO <EOF> Eminem|\"Walk\"|\"On\"|\"Water\"|\"A...  17158579\n",
      "1      iDubbbzTV <EOF> plush|\"bad unboxing\"|\"unboxing...   1014651\n",
      "3      nigahiga <EOF> ryan|\"higa\"|\"higatv\"|\"nigahiga\"...   2095828\n",
      "4      Ed Sheeran <EOF> edsheeran|\"ed sheeran\"|\"acous...  33523622\n",
      "5      DramaAlert <EOF> #DramaAlert|\"Drama\"|\"Alert\"|\"...   1309699\n",
      "...                                                  ...       ...\n",
      "41207  Россия 24 <EOF> поединок|\"михеев\"|\"полный конт...    201847\n",
      "41208  Annoying Orange <EOF> annoying orange|\"funny\"|...     80685\n",
      "41210  Kingdom Hearts <EOF> Kingdom Hearts|\"KH3\"|\"Kin...    773347\n",
      "41211  The Young Turks <EOF> 180612__TB02SorryExcuse|...    115225\n",
      "41212  我愛小明星大跟班 <EOF> 吳宗憲|\"吳姍儒\"|\"小明星大跟班\"|\"Sandy\"|\"Jac...    107392\n",
      "\n",
      "[32016 rows x 2 columns]\n"
     ]
    }
   ],
   "source": [
    "# Join columns with <EOF> tag\n",
    "df['combined'] = df.apply(lambda row: ' <EOF> '.join([row[\"channel_title\"], row[\"tags\"], row[\"description\"]]), axis=1)\n",
    "\n",
    "df = df[['combined','views']]\n",
    "# Print the resulting DataFrame\n",
    "print(df)"
   ]
  }
 ],
 "metadata": {
  "kernelspec": {
   "display_name": "yputube_2",
   "language": "python",
   "name": "python3"
  },
  "language_info": {
   "codemirror_mode": {
    "name": "ipython",
    "version": 3
   },
   "file_extension": ".py",
   "mimetype": "text/x-python",
   "name": "python",
   "nbconvert_exporter": "python",
   "pygments_lexer": "ipython3",
   "version": "3.10.11"
  },
  "orig_nbformat": 4
 },
 "nbformat": 4,
 "nbformat_minor": 2
}
